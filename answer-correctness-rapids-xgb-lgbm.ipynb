{
 "cells": [
  {
   "cell_type": "markdown",
   "metadata": {
    "papermill": {
     "duration": 0.04748,
     "end_time": "2021-04-10T14:56:46.310599",
     "exception": false,
     "start_time": "2021-04-10T14:56:46.263119",
     "status": "completed"
    },
    "tags": []
   },
   "source": [
    "<center><img src=\"https://i.imgur.com/HrWLO8e.png\"></center>\n",
    "\n",
    "### Versions:\n",
    "* Version 7: first baseline model\n",
    "* Version 8: tuned baseline model (lower score in LB)\n",
    "* Version 10: added new features - tunned model (lower in LB)\n",
    "* Version 11: no tunning trial\n",
    "* Version 13: added standardization, train_test_split and Feature Importance (kept only the important ones)\n",
    "* Version 15: removed standardization (lower performance) and added stratified=y in `train_test_split` (shuffle=False)\n",
    "* Version 16: adjusted the `train_data` and `features_data`, as there was a leakage"
   ]
  },
  {
   "cell_type": "code",
   "execution_count": 1,
   "metadata": {
    "_kg_hide-input": true,
    "_kg_hide-output": true,
    "execution": {
     "iopub.execute_input": "2021-04-10T14:56:46.409199Z",
     "iopub.status.busy": "2021-04-10T14:56:46.408562Z",
     "iopub.status.idle": "2021-04-10T14:56:46.419914Z",
     "shell.execute_reply": "2021-04-10T14:56:46.420470Z"
    },
    "papermill": {
     "duration": 0.063723,
     "end_time": "2021-04-10T14:56:46.420622",
     "exception": false,
     "start_time": "2021-04-10T14:56:46.356899",
     "status": "completed"
    },
    "tags": []
   },
   "outputs": [
    {
     "data": {
      "text/html": [
       "<style>.gradient-box {\n",
       "  \n",
       "  display: flex;\n",
       "  align-items: center;\n",
       "  width: 100em;\n",
       "  width: 100%;\n",
       "  margin: auto;\n",
       "  max-width: 100em;\n",
       "  height: 5vw;\n",
       "  justify-content: center;\n",
       "  align-items: center;\n",
       "\n",
       "\n",
       "  position: relative;\n",
       "  box-sizing: border-box;\n",
       "\n",
       "  color: #000;\n",
       "  font-weight: 500;\n",
       "  font-size: 30px;\n",
       "  text-align: center;\n",
       "  background: #FFF;\n",
       "  background-clip: padding-box; \n",
       "  border: solid 6px transparent; \n",
       "  border-radius: 1em;\n",
       "}\n",
       "\n",
       ".gradient-box:before {\n",
       "    content: '';\n",
       "    position: absolute;\n",
       "    top: 0; right: 0; bottom: 0; left: 0;\n",
       "    z-index: -1;\n",
       "    margin: -6px; \n",
       "    border-radius: inherit;\n",
       "    background: linear-gradient(to right, #8000FF, #F400FF);\n",
       "}</style>"
      ],
      "text/plain": [
       "<IPython.core.display.HTML object>"
      ]
     },
     "execution_count": 1,
     "metadata": {},
     "output_type": "execute_result"
    }
   ],
   "source": [
    "from IPython.core.display import HTML\n",
    "def css_styling():\n",
    "    styles = open(\"../input/riiid-answer-correctness-prediction-rapids/custom.css\", \"r\").read()\n",
    "    return HTML(\"<style>\"+styles+\"</style>\")\n",
    "css_styling()\n",
    "\n",
    "# <div class=\"gradient-box\">\n",
    "# <p>I. Intro: Rapids AI 🏃‍♂️ </p>\n",
    "# </div>"
   ]
  },
  {
   "cell_type": "code",
   "execution_count": 2,
   "metadata": {
    "_kg_hide-input": true,
    "_kg_hide-output": true,
    "execution": {
     "iopub.execute_input": "2021-04-10T14:56:46.519453Z",
     "iopub.status.busy": "2021-04-10T14:56:46.518906Z",
     "iopub.status.idle": "2021-04-10T14:56:46.530311Z",
     "shell.execute_reply": "2021-04-10T14:56:46.529747Z"
    },
    "papermill": {
     "duration": 0.062004,
     "end_time": "2021-04-10T14:56:46.530411",
     "exception": false,
     "start_time": "2021-04-10T14:56:46.468407",
     "status": "completed"
    },
    "tags": []
   },
   "outputs": [
    {
     "data": {
      "text/html": [
       "<style>/* Custom RAPIDS notebook CSS */\n",
       "/* custom.css should be placed in ~/.Jupyter/custom/  */\n",
       "/* font from https://fonts.googleapis.com/css?family=Open+Sans:400,600&display=swap */\n",
       "\n",
       "/* cyrillic-ext */\n",
       "@font-face {\n",
       "  font-family: 'Open Sans';\n",
       "  font-style: normal;\n",
       "  font-weight: 400;\n",
       "  font-display: swap;\n",
       "  src: local('Open Sans Regular'), local('OpenSans-Regular'), url(https://fonts.gstatic.com/s/opensans/v17/mem8YaGs126MiZpBA-UFWJ0bf8pkAp6a.woff2) format('woff2');\n",
       "  unicode-range: U+0460-052F, U+1C80-1C88, U+20B4, U+2DE0-2DFF, U+A640-A69F, U+FE2E-FE2F;\n",
       "}\n",
       "/* cyrillic */\n",
       "@font-face {\n",
       "  font-family: 'Open Sans';\n",
       "  font-style: normal;\n",
       "  font-weight: 400;\n",
       "  font-display: swap;\n",
       "  src: local('Open Sans Regular'), local('OpenSans-Regular'), url(https://fonts.gstatic.com/s/opensans/v17/mem8YaGs126MiZpBA-UFUZ0bf8pkAp6a.woff2) format('woff2');\n",
       "  unicode-range: U+0400-045F, U+0490-0491, U+04B0-04B1, U+2116;\n",
       "}\n",
       "/* greek-ext */\n",
       "@font-face {\n",
       "  font-family: 'Open Sans';\n",
       "  font-style: normal;\n",
       "  font-weight: 400;\n",
       "  font-display: swap;\n",
       "  src: local('Open Sans Regular'), local('OpenSans-Regular'), url(https://fonts.gstatic.com/s/opensans/v17/mem8YaGs126MiZpBA-UFWZ0bf8pkAp6a.woff2) format('woff2');\n",
       "  unicode-range: U+1F00-1FFF;\n",
       "}\n",
       "/* greek */\n",
       "@font-face {\n",
       "  font-family: 'Open Sans';\n",
       "  font-style: normal;\n",
       "  font-weight: 400;\n",
       "  font-display: swap;\n",
       "  src: local('Open Sans Regular'), local('OpenSans-Regular'), url(https://fonts.gstatic.com/s/opensans/v17/mem8YaGs126MiZpBA-UFVp0bf8pkAp6a.woff2) format('woff2');\n",
       "  unicode-range: U+0370-03FF;\n",
       "}\n",
       "/* vietnamese */\n",
       "@font-face {\n",
       "  font-family: 'Open Sans';\n",
       "  font-style: normal;\n",
       "  font-weight: 400;\n",
       "  font-display: swap;\n",
       "  src: local('Open Sans Regular'), local('OpenSans-Regular'), url(https://fonts.gstatic.com/s/opensans/v17/mem8YaGs126MiZpBA-UFWp0bf8pkAp6a.woff2) format('woff2');\n",
       "  unicode-range: U+0102-0103, U+0110-0111, U+1EA0-1EF9, U+20AB;\n",
       "}\n",
       "/* latin-ext */\n",
       "@font-face {\n",
       "  font-family: 'Open Sans';\n",
       "  font-style: normal;\n",
       "  font-weight: 400;\n",
       "  font-display: swap;\n",
       "  src: local('Open Sans Regular'), local('OpenSans-Regular'), url(https://fonts.gstatic.com/s/opensans/v17/mem8YaGs126MiZpBA-UFW50bf8pkAp6a.woff2) format('woff2');\n",
       "  unicode-range: U+0100-024F, U+0259, U+1E00-1EFF, U+2020, U+20A0-20AB, U+20AD-20CF, U+2113, U+2C60-2C7F, U+A720-A7FF;\n",
       "}\n",
       "/* latin */\n",
       "@font-face {\n",
       "  font-family: 'Open Sans';\n",
       "  font-style: normal;\n",
       "  font-weight: 400;\n",
       "  font-display: swap;\n",
       "  src: local('Open Sans Regular'), local('OpenSans-Regular'), url(https://fonts.gstatic.com/s/opensans/v17/mem8YaGs126MiZpBA-UFVZ0bf8pkAg.woff2) format('woff2');\n",
       "  unicode-range: U+0000-00FF, U+0131, U+0152-0153, U+02BB-02BC, U+02C6, U+02DA, U+02DC, U+2000-206F, U+2074, U+20AC, U+2122, U+2191, U+2193, U+2212, U+2215, U+FEFF, U+FFFD;\n",
       "}\n",
       "/* cyrillic-ext */\n",
       "@font-face {\n",
       "  font-family: 'Open Sans';\n",
       "  font-style: normal;\n",
       "  font-weight: 600;\n",
       "  font-display: swap;\n",
       "  src: local('Open Sans SemiBold'), local('OpenSans-SemiBold'), url(https://fonts.gstatic.com/s/opensans/v17/mem5YaGs126MiZpBA-UNirkOX-hpKKSTj5PW.woff2) format('woff2');\n",
       "  unicode-range: U+0460-052F, U+1C80-1C88, U+20B4, U+2DE0-2DFF, U+A640-A69F, U+FE2E-FE2F;\n",
       "}\n",
       "/* cyrillic */\n",
       "@font-face {\n",
       "  font-family: 'Open Sans';\n",
       "  font-style: normal;\n",
       "  font-weight: 600;\n",
       "  font-display: swap;\n",
       "  src: local('Open Sans SemiBold'), local('OpenSans-SemiBold'), url(https://fonts.gstatic.com/s/opensans/v17/mem5YaGs126MiZpBA-UNirkOVuhpKKSTj5PW.woff2) format('woff2');\n",
       "  unicode-range: U+0400-045F, U+0490-0491, U+04B0-04B1, U+2116;\n",
       "}\n",
       "/* greek-ext */\n",
       "@font-face {\n",
       "  font-family: 'Open Sans';\n",
       "  font-style: normal;\n",
       "  font-weight: 600;\n",
       "  font-display: swap;\n",
       "  src: local('Open Sans SemiBold'), local('OpenSans-SemiBold'), url(https://fonts.gstatic.com/s/opensans/v17/mem5YaGs126MiZpBA-UNirkOXuhpKKSTj5PW.woff2) format('woff2');\n",
       "  unicode-range: U+1F00-1FFF;\n",
       "}\n",
       "/* greek */\n",
       "@font-face {\n",
       "  font-family: 'Open Sans';\n",
       "  font-style: normal;\n",
       "  font-weight: 600;\n",
       "  font-display: swap;\n",
       "  src: local('Open Sans SemiBold'), local('OpenSans-SemiBold'), url(https://fonts.gstatic.com/s/opensans/v17/mem5YaGs126MiZpBA-UNirkOUehpKKSTj5PW.woff2) format('woff2');\n",
       "  unicode-range: U+0370-03FF;\n",
       "}\n",
       "/* vietnamese */\n",
       "@font-face {\n",
       "  font-family: 'Open Sans';\n",
       "  font-style: normal;\n",
       "  font-weight: 600;\n",
       "  font-display: swap;\n",
       "  src: local('Open Sans SemiBold'), local('OpenSans-SemiBold'), url(https://fonts.gstatic.com/s/opensans/v17/mem5YaGs126MiZpBA-UNirkOXehpKKSTj5PW.woff2) format('woff2');\n",
       "  unicode-range: U+0102-0103, U+0110-0111, U+1EA0-1EF9, U+20AB;\n",
       "}\n",
       "/* latin-ext */\n",
       "@font-face {\n",
       "  font-family: 'Open Sans';\n",
       "  font-style: normal;\n",
       "  font-weight: 600;\n",
       "  font-display: swap;\n",
       "  src: local('Open Sans SemiBold'), local('OpenSans-SemiBold'), url(https://fonts.gstatic.com/s/opensans/v17/mem5YaGs126MiZpBA-UNirkOXOhpKKSTj5PW.woff2) format('woff2');\n",
       "  unicode-range: U+0100-024F, U+0259, U+1E00-1EFF, U+2020, U+20A0-20AB, U+20AD-20CF, U+2113, U+2C60-2C7F, U+A720-A7FF;\n",
       "}\n",
       "/* latin */\n",
       "@font-face {\n",
       "  font-family: 'Open Sans';\n",
       "  font-style: normal;\n",
       "  font-weight: 600;\n",
       "  font-display: swap;\n",
       "  src: local('Open Sans SemiBold'), local('OpenSans-SemiBold'), url(https://fonts.gstatic.com/s/opensans/v17/mem5YaGs126MiZpBA-UNirkOUuhpKKSTjw.woff2) format('woff2');\n",
       "  unicode-range: U+0000-00FF, U+0131, U+0152-0153, U+02BB-02BC, U+02C6, U+02DA, U+02DC, U+2000-206F, U+2074, U+20AC, U+2122, U+2191, U+2193, U+2212, U+2215, U+FEFF, U+FFFD;\n",
       "}\n",
       "\n",
       "div #notebook {\n",
       "\tbackground-color: white;\n",
       "\tfont-family: 'Open Sans', Helvetica, sans-serif;\n",
       "\tline-height: 25px;\n",
       "}\n",
       "\n",
       "#notebook p {\n",
       "\tmargin-top: 0.5em;\n",
       "\tmargin-bottom: 1em;\n",
       "\tcolor: #6d6d6d;\n",
       "}\n",
       "\n",
       "#notebook-container {\n",
       "\tmargin-top: 2em;\n",
       "\tpadding-top: 2em;\n",
       "\tborder-top: 4px solid #7306ff;\n",
       "\t-webkit-box-shadow: 0px 0px 8px 2px rgba(224, 212, 226, 0.5);\n",
       "    box-shadow: 0px 0px 8px 2px rgba(224, 212, 226, 0.5);\n",
       "}\n",
       "\n",
       "div .input {\n",
       "\tmargin-bottom: 1em;\n",
       "}\n",
       "\n",
       ".rendered_html h1, .rendered_html h2, .rendered_html h3, .rendered_html h4, .rendered_html h5, .rendered_html h6 {\n",
       "\tcolor: #7400ff;\n",
       "\tfont-weight: 600;\n",
       "}\n",
       "\n",
       ".rendered_html code {\n",
       "    background-color: #efefef;\n",
       "}\n",
       "\n",
       ".CodeMirror {\n",
       "\tcolor: #8c8c8c;\n",
       "\tpadding: 0.7em;\n",
       "}\n",
       "\n",
       "div.input_area {\n",
       "\tborder: none;\n",
       "    background-color: rgba(115, 6, 255, 0.03);\n",
       "    border-top: 2px solid #7400ff;\n",
       "}\n",
       "\n",
       "div.input_prompt {\n",
       "\tcolor: #36c9dd;\n",
       "}\n",
       "\n",
       "div.output_prompt {\n",
       "\tcolor: #ffb500;\n",
       "}\n",
       "\n",
       "div.cell.selected:before, div.cell.selected.jupyter-soft-selected:before {\n",
       "\tbackground: #7400ff;\n",
       "\n",
       "}\n",
       "\n",
       "div.cell.selected, div.cell.selected.jupyter-soft-selected {\n",
       "    border-color: #7400ff;\n",
       "}\n",
       "\n",
       ".edit_mode div.cell.selected:before {\n",
       "\tbackground: #ffb500;\n",
       "\n",
       "}\n",
       "\n",
       ".edit_mode div.cell.selected {\n",
       "\tborder-color: #ffb500;\n",
       "\n",
       "}\n",
       "\n",
       "/* hilights tweaks */\n",
       ".cm-s-ipython span.cm-number {\n",
       "\tcolor: #00b1a3;\n",
       "}\n",
       "\n",
       ".cm-s-ipython span.cm-builtin {\n",
       "    color: #00b1a3;\n",
       "}\n",
       "\n",
       ".cm-s-ipython span.cm-keyword {\n",
       "    color: #690dab;\n",
       "    font-weight: bold;\n",
       "}\n",
       "</style>"
      ],
      "text/plain": [
       "<IPython.core.display.HTML object>"
      ]
     },
     "execution_count": 2,
     "metadata": {},
     "output_type": "execute_result"
    }
   ],
   "source": [
    "def notebook_styling():\n",
    "    styles = open(\"../input/riiid-answer-correctness-prediction-rapids/custom_rapids.css\", \"r\").read()\n",
    "    return HTML(\"<style>\"+styles+\"</style>\")\n",
    "notebook_styling()"
   ]
  },
  {
   "cell_type": "markdown",
   "metadata": {
    "papermill": {
     "duration": 0.046858,
     "end_time": "2021-04-10T14:56:46.624517",
     "exception": false,
     "start_time": "2021-04-10T14:56:46.577659",
     "status": "completed"
    },
    "tags": []
   },
   "source": [
    "<img src=\"https://i.imgur.com/QVotmCj.png\">\n",
    "\n",
    "<img src=\"https://developer.nvidia.com/sites/default/files/pictures/2018/rapids/rapids-logo.png\" width=400>\n",
    "\n",
    "The usually used libraries like `numpy`, `pandas` or `scikit-learn` are designed to work on **CPU**. However, this competition is based on a large amount of data (100+ million rows), so these libraries will perform slowly or, even worse, they won't be able to perform at all. Hence, if you have some **GPUs** at hand (especially here on Kaggle), you can put them to work to help you in this competition :)\n",
    "\n",
    "Thankfully, the researchers at Nvidia worked hard and in our favor, developing the `RAPIDS` open-source package.\n",
    "\n",
    "> RAPIDS is an open-source suite of data processing and machine learning libraries developed by NVIDIA that enables GPU-acceleration for data science workflows.\n",
    "\n",
    "<div class=\"alert alert-block alert-info\">\n",
    "<b>References I used:</b>\n",
    "<ul>\n",
    "    <li><a href = \"https://rapids.ai/index.html\">RAPIDS - Open GPU Data Science - Official Site</a></li>\n",
    "    <li><a href = \"https://docs.rapids.ai/api/cudf/stable/10min.html#Dask-Performance-Tips\">10 mins to CuDF</a></li>\n",
    "</ul>\n",
    "</div>\n",
    "\n",
    "### Libraries 📚"
   ]
  },
  {
   "cell_type": "code",
   "execution_count": 3,
   "metadata": {
    "execution": {
     "iopub.execute_input": "2021-04-10T14:56:46.726463Z",
     "iopub.status.busy": "2021-04-10T14:56:46.725663Z",
     "iopub.status.idle": "2021-04-10T14:58:58.200974Z",
     "shell.execute_reply": "2021-04-10T14:58:58.201669Z"
    },
    "papermill": {
     "duration": 131.530676,
     "end_time": "2021-04-10T14:58:58.201858",
     "exception": false,
     "start_time": "2021-04-10T14:56:46.671182",
     "status": "completed"
    },
    "tags": []
   },
   "outputs": [
    {
     "name": "stdout",
     "output_type": "stream",
     "text": [
      "CPU times: user 1.59 s, sys: 369 ms, total: 1.96 s\n",
      "Wall time: 1min 46s\n"
     ]
    }
   ],
   "source": [
    "%%time\n",
    "\n",
    "# Import the Rapids suite here - takes abot 1.5 mins\n",
    "\n",
    "import sys\n",
    "!cp ../input/rapids/rapids.0.18.0 /opt/conda/envs/rapids.tar.gz\n",
    "!cd /opt/conda/envs/ && tar -xzvf rapids.tar.gz > /dev/null\n",
    "sys.path = [\"/opt/conda/envs/rapids/lib/python3.7/site-packages\"] + sys.path\n",
    "sys.path = [\"/opt/conda/envs/rapids/lib/python3.7\"] + sys.path\n",
    "sys.path = [\"/opt/conda/envs/rapids/lib\"] + sys.path \n",
    "!cp /opt/conda/envs/rapids/lib/libxgboost.so /opt/conda/lib/"
   ]
  },
  {
   "cell_type": "code",
   "execution_count": 4,
   "metadata": {
    "execution": {
     "iopub.execute_input": "2021-04-10T14:58:58.384487Z",
     "iopub.status.busy": "2021-04-10T14:58:58.383738Z",
     "iopub.status.idle": "2021-04-10T14:58:58.981954Z",
     "shell.execute_reply": "2021-04-10T14:58:58.980966Z"
    },
    "papermill": {
     "duration": 0.694529,
     "end_time": "2021-04-10T14:58:58.982061",
     "exception": false,
     "start_time": "2021-04-10T14:58:58.287532",
     "status": "completed"
    },
    "tags": []
   },
   "outputs": [
    {
     "data": {
      "image/png": "[encoded data removed]",
      "text/plain": [
       "<Figure size 360x72 with 1 Axes>"
      ]
     },
     "metadata": {
      "needs_background": "light"
     },
     "output_type": "display_data"
    }
   ],
   "source": [
    "# Regular Libraries\n",
    "import os\n",
    "import pandas as pd\n",
    "import numpy as np\n",
    "import seaborn as sns\n",
    "import matplotlib.pyplot as plt\n",
    "%matplotlib inline\n",
    "import matplotlib.image as mpimg\n",
    "from IPython.display import display_html\n",
    "from PIL import Image\n",
    "import gc\n",
    "from scipy.stats import pearsonr\n",
    "import tqdm\n",
    "import copy\n",
    "import re\n",
    "\n",
    "import warnings\n",
    "warnings.filterwarnings(\"ignore\", category=DeprecationWarning)\n",
    "warnings.filterwarnings(\"ignore\", category=UserWarning)\n",
    "warnings.filterwarnings(\"ignore\", category=FutureWarning)\n",
    "\n",
    "# Color Palette\n",
    "custom_colors = ['#7400ff', '#a788e4', '#d216d2', '#ffb500', '#36c9dd']\n",
    "sns.palplot(sns.color_palette(custom_colors))\n",
    "\n",
    "# Set Style\n",
    "sns.set_style(\"whitegrid\")\n",
    "sns.despine(left=True, bottom=True)\n",
    "\n",
    "# Set tick size\n",
    "plt.rc('xtick',labelsize=12)\n",
    "plt.rc('ytick',labelsize=12)"
   ]
  },
  {
   "cell_type": "markdown",
   "metadata": {
    "papermill": {
     "duration": 0.077466,
     "end_time": "2021-04-10T14:58:59.116126",
     "exception": false,
     "start_time": "2021-04-10T14:58:59.038660",
     "status": "completed"
    },
    "tags": []
   },
   "source": [
    "*📌Note: Can't use `Dask-cuDF` because we oly have 1 worker and Memory: 13.96 in the Kaggle GPU Accelerator. If we would have had more than 1 worker, `Dask` would have performed even better :)*"
   ]
  },
  {
   "cell_type": "code",
   "execution_count": 5,
   "metadata": {
    "execution": {
     "iopub.execute_input": "2021-04-10T14:58:59.355641Z",
     "iopub.status.busy": "2021-04-10T14:58:59.352735Z",
     "iopub.status.idle": "2021-04-10T14:59:08.852829Z",
     "shell.execute_reply": "2021-04-10T14:59:08.852305Z"
    },
    "papermill": {
     "duration": 9.619241,
     "end_time": "2021-04-10T14:59:08.852934",
     "exception": false,
     "start_time": "2021-04-10T14:58:59.233693",
     "status": "completed"
    },
    "tags": []
   },
   "outputs": [
    {
     "name": "stderr",
     "output_type": "stream",
     "text": [
      "/opt/conda/envs/rapids/lib/python3.7/site-packages/distributed/client.py:1134: VersionMismatchWarning: Mismatched versions found\n",
      "\n",
      "+---------+--------+-----------+---------+\n",
      "| Package | client | scheduler | workers |\n",
      "+---------+--------+-----------+---------+\n",
      "| numpy   | 1.18.5 | 1.18.5    | 1.20.1  |\n",
      "| tornado | 5.0.2  | 5.0.2     | 6.1     |\n",
      "+---------+--------+-----------+---------+\n",
      "  warnings.warn(version_module.VersionMismatchWarning(msg[0][\"warning\"]))\n"
     ]
    },
    {
     "data": {
      "text/html": [
       "<table style=\"border: 2px solid white;\">\n",
       "<tr>\n",
       "<td style=\"vertical-align: top; border: 0px solid white\">\n",
       "<h3 style=\"text-align: left;\">Client</h3>\n",
       "<ul style=\"text-align: left; list-style: none; margin: 0; padding: 0;\">\n",
       "  <li><b>Scheduler: </b>tcp://127.0.0.1:34647</li>\n",
       "  <li><b>Dashboard: </b><a href='http://127.0.0.1:8787/status' target='_blank'>http://127.0.0.1:8787/status</a></li>\n",
       "</ul>\n",
       "</td>\n",
       "<td style=\"vertical-align: top; border: 0px solid white\">\n",
       "<h3 style=\"text-align: left;\">Cluster</h3>\n",
       "<ul style=\"text-align: left; list-style:none; margin: 0; padding: 0;\">\n",
       "  <li><b>Workers: </b>1</li>\n",
       "  <li><b>Cores: </b>1</li>\n",
       "  <li><b>Memory: </b>13.96 GB</li>\n",
       "</ul>\n",
       "</td>\n",
       "</tr>\n",
       "</table>"
      ],
      "text/plain": [
       "<Client: 'tcp://127.0.0.1:34647' processes=1 threads=1, memory=13.96 GB>"
      ]
     },
     "execution_count": 5,
     "metadata": {},
     "output_type": "execute_result"
    }
   ],
   "source": [
    "# Rapids Imports\n",
    "import cudf\n",
    "import cupy # CuPy is an open-source array library accelerated with NVIDIA CUDA.\n",
    "\n",
    "\n",
    "from dask.distributed import Client, wait\n",
    "from dask_cuda import LocalCUDACluster\n",
    "\n",
    "cluster = LocalCUDACluster()\n",
    "client = Client(cluster)\n",
    "client"
   ]
  },
  {
   "cell_type": "markdown",
   "metadata": {
    "papermill": {
     "duration": 0.061031,
     "end_time": "2021-04-10T14:59:08.967084",
     "exception": false,
     "start_time": "2021-04-10T14:59:08.906053",
     "status": "completed"
    },
    "tags": []
   },
   "source": [
    "> [Tesla P-100](https://www.nvidia.com/en-us/data-center/tesla-p100/)"
   ]
  },
  {
   "cell_type": "code",
   "execution_count": 6,
   "metadata": {
    "execution": {
     "iopub.execute_input": "2021-04-10T14:59:09.098824Z",
     "iopub.status.busy": "2021-04-10T14:59:09.098010Z",
     "iopub.status.idle": "2021-04-10T14:59:09.852582Z",
     "shell.execute_reply": "2021-04-10T14:59:09.851452Z"
    },
    "papermill": {
     "duration": 0.83368,
     "end_time": "2021-04-10T14:59:09.852692",
     "exception": false,
     "start_time": "2021-04-10T14:59:09.019012",
     "status": "completed"
    },
    "tags": []
   },
   "outputs": [
    {
     "name": "stdout",
     "output_type": "stream",
     "text": [
      "Sat Apr 10 14:59:09 2021       \r\n",
      "+-----------------------------------------------------------------------------+\r\n",
      "| NVIDIA-SMI 450.51.06    Driver Version: 450.51.06    CUDA Version: 11.0     |\r\n",
      "|-------------------------------+----------------------+----------------------+\r\n",
      "| GPU  Name        Persistence-M| Bus-Id        Disp.A | Volatile Uncorr. ECC |\r\n",
      "| Fan  Temp  Perf  Pwr:Usage/Cap|         Memory-Usage | GPU-Util  Compute M. |\r\n",
      "|                               |                      |               MIG M. |\r\n",
      "|===============================+======================+======================|\r\n",
      "|   0  Tesla P100-PCIE...  Off  | 00000000:00:04.0 Off |                    0 |\r\n",
      "| N/A   39C    P0    35W / 250W |    508MiB / 16280MiB |      0%      Default |\r\n",
      "|                               |                      |                  N/A |\r\n",
      "+-------------------------------+----------------------+----------------------+\r\n",
      "                                                                               \r\n",
      "+-----------------------------------------------------------------------------+\r\n",
      "| Processes:                                                                  |\r\n",
      "|  GPU   GI   CI        PID   Type   Process name                  GPU Memory |\r\n",
      "|        ID   ID                                                   Usage      |\r\n",
      "|=============================================================================|\r\n",
      "+-----------------------------------------------------------------------------+\r\n"
     ]
    }
   ],
   "source": [
    "!nvidia-smi"
   ]
  },
  {
   "cell_type": "markdown",
   "metadata": {
    "papermill": {
     "duration": 0.051434,
     "end_time": "2021-04-10T14:59:09.956001",
     "exception": false,
     "start_time": "2021-04-10T14:59:09.904567",
     "status": "completed"
    },
    "tags": []
   },
   "source": [
    "## CPU vs GPU comparison\n",
    "\n",
    "> code source is from RAPIDS demo notebooks: Random Forest Demo"
   ]
  },
  {
   "cell_type": "code",
   "execution_count": 7,
   "metadata": {
    "_kg_hide-input": true,
    "execution": {
     "iopub.execute_input": "2021-04-10T14:59:10.072527Z",
     "iopub.status.busy": "2021-04-10T14:59:10.071606Z",
     "iopub.status.idle": "2021-04-10T14:59:20.988277Z",
     "shell.execute_reply": "2021-04-10T14:59:20.988710Z"
    },
    "papermill": {
     "duration": 10.980788,
     "end_time": "2021-04-10T14:59:20.988848",
     "exception": false,
     "start_time": "2021-04-10T14:59:10.008060",
     "status": "completed"
    },
    "tags": []
   },
   "outputs": [
    {
     "name": "stdout",
     "output_type": "stream",
     "text": [
      "X shape:  (32768, 399) \n",
      "y shape:  (32768,)\n"
     ]
    }
   ],
   "source": [
    "# Imports\n",
    "import cudf\n",
    "import numpy as np\n",
    "import pandas as pd\n",
    "import pickle\n",
    "\n",
    "from cuml.ensemble import RandomForestClassifier as curfc\n",
    "from cuml.metrics import accuracy_score\n",
    "\n",
    "from sklearn.ensemble import RandomForestClassifier as skrfc\n",
    "from sklearn.datasets import make_classification\n",
    "from sklearn.model_selection import train_test_split\n",
    "\n",
    "import time\n",
    "\n",
    "\n",
    "# Parameters for creating some fake data\n",
    "n_samples = 2**15\n",
    "n_features = 399\n",
    "n_info = 300\n",
    "data_type = np.float32\n",
    "\n",
    "\n",
    "# Make Data\n",
    "X,y = make_classification(n_samples=n_samples,\n",
    "                          n_features=n_features,\n",
    "                          n_informative=n_info,\n",
    "                          random_state=123, n_classes=2)\n",
    "\n",
    "X = pd.DataFrame(X.astype(data_type))\n",
    "# cuML Random Forest Classifier requires the labels to be integers\n",
    "y = pd.Series(y.astype(np.int32))\n",
    "\n",
    "X_train, X_test, y_train, y_test = train_test_split(X, y,\n",
    "                                                    test_size = 0.2,\n",
    "                                                    random_state=0)\n",
    "\n",
    "# From CPU to GPU\n",
    "X_cudf_train = cudf.DataFrame.from_pandas(X_train)\n",
    "X_cudf_test = cudf.DataFrame.from_pandas(X_test)\n",
    "\n",
    "y_cudf_train = cudf.Series(y_train.values)\n",
    "\n",
    "print(\"X shape: \", X.shape, \"\\n\" +\n",
    "      \"y shape: \", y.shape)"
   ]
  },
  {
   "cell_type": "markdown",
   "metadata": {
    "papermill": {
     "duration": 0.053237,
     "end_time": "2021-04-10T14:59:21.096542",
     "exception": false,
     "start_time": "2021-04-10T14:59:21.043305",
     "status": "completed"
    },
    "tags": []
   },
   "source": [
    "### Sklearn (CPU)"
   ]
  },
  {
   "cell_type": "code",
   "execution_count": 8,
   "metadata": {
    "execution": {
     "iopub.execute_input": "2021-04-10T14:59:21.211818Z",
     "iopub.status.busy": "2021-04-10T14:59:21.211273Z",
     "iopub.status.idle": "2021-04-10T15:05:12.963485Z",
     "shell.execute_reply": "2021-04-10T15:05:12.962993Z"
    },
    "papermill": {
     "duration": 351.813118,
     "end_time": "2021-04-10T15:05:12.963627",
     "exception": false,
     "start_time": "2021-04-10T14:59:21.150509",
     "status": "completed"
    },
    "tags": []
   },
   "outputs": [
    {
     "name": "stdout",
     "output_type": "stream",
     "text": [
      "==== CPU ==== \n",
      "\n",
      "Training time: 5.9 mins\n",
      "Evaluation time: 0.0 mins\n"
     ]
    }
   ],
   "source": [
    "print(\"==== CPU ====\", \"\\n\")\n",
    "# ==== Fit ====\n",
    "\n",
    "start = time.time()\n",
    "sk_model = skrfc(n_estimators=40,\n",
    "                 max_depth=16,\n",
    "                 max_features=1.0,\n",
    "                 random_state=10)\n",
    "\n",
    "sk_model.fit(X_train, y_train)\n",
    "end = time.time()\n",
    "\n",
    "print(\"Training time: {} mins\".format(round((end-start)/60, 1)))\n",
    "\n",
    "# ==== Evaluate ====\n",
    "start = time.time()\n",
    "sk_predict = sk_model.predict(X_test)\n",
    "sk_acc = accuracy_score(y_test, sk_predict)\n",
    "end = time.time()\n",
    "\n",
    "print(\"Evaluation time: {} mins\".format(round((end-start)/60, 1)))"
   ]
  },
  {
   "cell_type": "markdown",
   "metadata": {
    "papermill": {
     "duration": 0.060359,
     "end_time": "2021-04-10T15:05:13.082039",
     "exception": false,
     "start_time": "2021-04-10T15:05:13.021680",
     "status": "completed"
    },
    "tags": []
   },
   "source": [
    "### CuML (GPU)"
   ]
  },
  {
   "cell_type": "code",
   "execution_count": 9,
   "metadata": {
    "execution": {
     "iopub.execute_input": "2021-04-10T15:05:13.211898Z",
     "iopub.status.busy": "2021-04-10T15:05:13.210765Z",
     "iopub.status.idle": "2021-04-10T15:05:31.006876Z",
     "shell.execute_reply": "2021-04-10T15:05:31.007579Z"
    },
    "papermill": {
     "duration": 17.865793,
     "end_time": "2021-04-10T15:05:31.007747",
     "exception": false,
     "start_time": "2021-04-10T15:05:13.141954",
     "status": "completed"
    },
    "tags": []
   },
   "outputs": [
    {
     "name": "stdout",
     "output_type": "stream",
     "text": [
      "==== GPU ==== \n",
      "\n",
      "Training time: 0.2 mins\n",
      "Evaluation time: 0.1 mins\n"
     ]
    }
   ],
   "source": [
    "print(\"==== GPU ====\", \"\\n\")\n",
    "# ==== Fit ====\n",
    "\n",
    "start = time.time()\n",
    "cuml_model = curfc(n_estimators=40,\n",
    "                   max_depth=16,\n",
    "                   max_features=1.0,\n",
    "                   random_state=10,\n",
    "                   n_streams=1) # for reproducibility\n",
    "\n",
    "cuml_model.fit(X_cudf_train, y_cudf_train)\n",
    "end = time.time()\n",
    "\n",
    "print(\"Training time: {} mins\".format(round((end-start)/60, 1)))\n",
    "\n",
    "# ==== Evaluate ====\n",
    "start = time.time()\n",
    "fil_preds_orig = cuml_model.predict(X_cudf_test)\n",
    "\n",
    "fil_acc_orig = accuracy_score(y_test.to_numpy(), fil_preds_orig)\n",
    "end = time.time()\n",
    "\n",
    "print(\"Evaluation time: {} mins\".format(round((end-start)/60, 1)))"
   ]
  },
  {
   "cell_type": "markdown",
   "metadata": {
    "papermill": {
     "duration": 0.058122,
     "end_time": "2021-04-10T15:05:31.125410",
     "exception": false,
     "start_time": "2021-04-10T15:05:31.067288",
     "status": "completed"
    },
    "tags": []
   },
   "source": [
    "<div class=\"alert alert-block alert-success\">\n",
    "<p>In this experiment, CuML is net superior (MUCH faster) than Sklearn - almost 6 minutes vs 30 seconds.</p>\n",
    "</div>"
   ]
  },
  {
   "cell_type": "markdown",
   "metadata": {
    "papermill": {
     "duration": 0.059954,
     "end_time": "2021-04-10T15:05:31.243893",
     "exception": false,
     "start_time": "2021-04-10T15:05:31.183939",
     "status": "completed"
    },
    "tags": []
   },
   "source": [
    "<img src=\"https://i.imgur.com/NvHmO3L.png\">\n",
    "\n",
    "<div class=\"alert alert-block alert-info\">\n",
    "In this section we'll use the <code>cudf</code> and <code>cupy</code> libraries provided by RAPIDS, combined with <code>numpy</code> for the plotting part. The notebook runs at the moment in 3 minutes.\n",
    "</div>\n",
    "\n",
    "# 1. train.csv\n",
    "\n",
    "* `row_id`: (int64) ID code for the row.\n",
    "* `timestamp`: (int64) the time in milliseconds between this user interaction and the first event completion from that user.\n",
    "* `user_id`: (int32) ID code for the user.\n",
    "* `content_id`: (int16) ID code for the user interaction\n",
    "* `content_type_id`: (bool) 0 if the event was a question being posed to the user, 1 if the event was the user watching a lecture.\n",
    "* `task_container_id`: (int16) ID code for the *batch of questions or lectures*. (eg. a user might see three questions in a row before seeing the explanations for any of them - those three would all share a task_container_id)\n",
    "* `user_answer`: (int8) the user's answer to the question, if any. Read -1 as null, for lectures.\n",
    "* `answered_correctly`: (int8) if the user responded correctly. Read -1 as null, for lectures.\n",
    "* `prior_question_elapsed_time`: (float32) The average time in milliseconds it took a user to answer each question in the previous question bundle, ignoring any lectures in between (is null for a user's first question bundle or lecture)\n",
    "* `prior_question_had_explanation`: (bool) Whether or not the user saw an explanation and the correct response(s) after answering the previous question bundle, ignoring any lectures in between. The value is shared across a single question bundle, and is null for a user's first question bundle or lecture. Typically the first several questions a user sees were part of an onboarding diagnostic test where they did not get any feedback."
   ]
  },
  {
   "cell_type": "code",
   "execution_count": 10,
   "metadata": {
    "execution": {
     "iopub.execute_input": "2021-04-10T15:05:31.365667Z",
     "iopub.status.busy": "2021-04-10T15:05:31.365005Z",
     "iopub.status.idle": "2021-04-10T15:06:34.617443Z",
     "shell.execute_reply": "2021-04-10T15:06:34.614276Z"
    },
    "papermill": {
     "duration": 63.316222,
     "end_time": "2021-04-10T15:06:34.617599",
     "exception": false,
     "start_time": "2021-04-10T15:05:31.301377",
     "status": "completed"
    },
    "tags": []
   },
   "outputs": [
    {
     "name": "stdout",
     "output_type": "stream",
     "text": [
      "CPU times: user 3.21 s, sys: 2.35 s, total: 5.56 s\n",
      "Wall time: 1min 3s\n"
     ]
    }
   ],
   "source": [
    "%%time\n",
    "\n",
    "# Read in data\n",
    "dtypes = {\n",
    "    \"row_id\": \"int64\",\n",
    "    \"timestamp\": \"int64\",\n",
    "    \"user_id\": \"int32\",\n",
    "    \"content_id\": \"int16\",\n",
    "    \"content_type_id\": \"boolean\",\n",
    "    \"task_container_id\": \"int16\",\n",
    "    \"user_answer\": \"int8\",\n",
    "    \"answered_correctly\": \"int8\",\n",
    "    \"prior_question_elapsed_time\": \"float32\", \n",
    "    \"prior_question_had_explanation\": \"int8\"\n",
    "}\n",
    "\n",
    "train = cudf.read_csv('../input/riiid-test-answer-prediction/train.csv', dtype=dtypes)\n",
    "\n",
    "# # Drop \"row_id\" column as it doesn't give any information\n",
    "# train = train.drop(columns = [\"row_id\"], axis=1, inplace=True)"
   ]
  },
  {
   "cell_type": "markdown",
   "metadata": {
    "papermill": {
     "duration": 0.060736,
     "end_time": "2021-04-10T15:06:34.739087",
     "exception": false,
     "start_time": "2021-04-10T15:06:34.678351",
     "status": "completed"
    },
    "tags": []
   },
   "source": [
    "> 📌Note: The only 2 columns with missing data (explained in documentation - `NULL` values are present for the first question bundle)"
   ]
  },
  {
   "cell_type": "code",
   "execution_count": 11,
   "metadata": {
    "execution": {
     "iopub.execute_input": "2021-04-10T15:06:34.872703Z",
     "iopub.status.busy": "2021-04-10T15:06:34.871069Z",
     "iopub.status.idle": "2021-04-10T15:06:35.131875Z",
     "shell.execute_reply": "2021-04-10T15:06:35.131350Z"
    },
    "papermill": {
     "duration": 0.333196,
     "end_time": "2021-04-10T15:06:35.132001",
     "exception": false,
     "start_time": "2021-04-10T15:06:34.798805",
     "status": "completed"
    },
    "tags": []
   },
   "outputs": [
    {
     "name": "stdout",
     "output_type": "stream",
     "text": [
      "Rows: 101,230,332 \n",
      "Columns: 10\n",
      "prior_question_elapsed_time has: 2,351,538 (2.3%) missing values.\n",
      "prior_question_had_explanation has: 392,506 (0.39%) missing values.\n"
     ]
    },
    {
     "data": {
      "text/html": [
       "<div>\n",
       "<style scoped>\n",
       "    .dataframe tbody tr th:only-of-type {\n",
       "        vertical-align: middle;\n",
       "    }\n",
       "\n",
       "    .dataframe tbody tr th {\n",
       "        vertical-align: top;\n",
       "    }\n",
       "\n",
       "    .dataframe thead th {\n",
       "        text-align: right;\n",
       "    }\n",
       "</style>\n",
       "<table border=\"1\" class=\"dataframe\">\n",
       "  <thead>\n",
       "    <tr style=\"text-align: right;\">\n",
       "      <th></th>\n",
       "      <th>row_id</th>\n",
       "      <th>timestamp</th>\n",
       "      <th>user_id</th>\n",
       "      <th>content_id</th>\n",
       "      <th>content_type_id</th>\n",
       "      <th>task_container_id</th>\n",
       "      <th>user_answer</th>\n",
       "      <th>answered_correctly</th>\n",
       "      <th>prior_question_elapsed_time</th>\n",
       "      <th>prior_question_had_explanation</th>\n",
       "    </tr>\n",
       "  </thead>\n",
       "  <tbody>\n",
       "    <tr>\n",
       "      <th>0</th>\n",
       "      <td>0</td>\n",
       "      <td>0</td>\n",
       "      <td>115</td>\n",
       "      <td>5692</td>\n",
       "      <td>False</td>\n",
       "      <td>1</td>\n",
       "      <td>3</td>\n",
       "      <td>1</td>\n",
       "      <td>-1.0</td>\n",
       "      <td>-1</td>\n",
       "    </tr>\n",
       "    <tr>\n",
       "      <th>1</th>\n",
       "      <td>1</td>\n",
       "      <td>56943</td>\n",
       "      <td>115</td>\n",
       "      <td>5716</td>\n",
       "      <td>False</td>\n",
       "      <td>2</td>\n",
       "      <td>2</td>\n",
       "      <td>1</td>\n",
       "      <td>37000.0</td>\n",
       "      <td>0</td>\n",
       "    </tr>\n",
       "    <tr>\n",
       "      <th>2</th>\n",
       "      <td>2</td>\n",
       "      <td>118363</td>\n",
       "      <td>115</td>\n",
       "      <td>128</td>\n",
       "      <td>False</td>\n",
       "      <td>0</td>\n",
       "      <td>0</td>\n",
       "      <td>1</td>\n",
       "      <td>55000.0</td>\n",
       "      <td>0</td>\n",
       "    </tr>\n",
       "    <tr>\n",
       "      <th>3</th>\n",
       "      <td>3</td>\n",
       "      <td>131167</td>\n",
       "      <td>115</td>\n",
       "      <td>7860</td>\n",
       "      <td>False</td>\n",
       "      <td>3</td>\n",
       "      <td>0</td>\n",
       "      <td>1</td>\n",
       "      <td>19000.0</td>\n",
       "      <td>0</td>\n",
       "    </tr>\n",
       "    <tr>\n",
       "      <th>4</th>\n",
       "      <td>4</td>\n",
       "      <td>137965</td>\n",
       "      <td>115</td>\n",
       "      <td>7922</td>\n",
       "      <td>False</td>\n",
       "      <td>4</td>\n",
       "      <td>1</td>\n",
       "      <td>1</td>\n",
       "      <td>11000.0</td>\n",
       "      <td>0</td>\n",
       "    </tr>\n",
       "  </tbody>\n",
       "</table>\n",
       "</div>"
      ],
      "text/plain": [
       "   row_id  timestamp  user_id  content_id  content_type_id  task_container_id  \\\n",
       "0       0          0      115        5692            False                  1   \n",
       "1       1      56943      115        5716            False                  2   \n",
       "2       2     118363      115         128            False                  0   \n",
       "3       3     131167      115        7860            False                  3   \n",
       "4       4     137965      115        7922            False                  4   \n",
       "\n",
       "   user_answer  answered_correctly  prior_question_elapsed_time  \\\n",
       "0            3                   1                         -1.0   \n",
       "1            2                   1                      37000.0   \n",
       "2            0                   1                      55000.0   \n",
       "3            0                   1                      19000.0   \n",
       "4            1                   1                      11000.0   \n",
       "\n",
       "   prior_question_had_explanation  \n",
       "0                              -1  \n",
       "1                               0  \n",
       "2                               0  \n",
       "3                               0  \n",
       "4                               0  "
      ]
     },
     "execution_count": 11,
     "metadata": {},
     "output_type": "execute_result"
    }
   ],
   "source": [
    "# Data Information\n",
    "print(\"Rows: {:,}\".format(len(train)), \"\\n\" +\n",
    "      \"Columns: {}\".format(len(train.columns)))\n",
    "\n",
    "# Find Missing Data if any\n",
    "total = len(train)\n",
    "\n",
    "for column in train.columns:\n",
    "    if train[column].isna().sum() != 0:\n",
    "        print(\"{} has: {:,} ({:.2}%) missing values.\".format(column, train[column].isna().sum(), \n",
    "                                                             (train[column].isna().sum()/total)*100))\n",
    "        \n",
    "        \n",
    "# Fill in missing values with \"-1\"\n",
    "train[\"prior_question_elapsed_time\"] = train[\"prior_question_elapsed_time\"].fillna(-1)\n",
    "train[\"prior_question_had_explanation\"] = train[\"prior_question_had_explanation\"].fillna(-1)\n",
    "\n",
    "train.head()"
   ]
  },
  {
   "cell_type": "markdown",
   "metadata": {
    "papermill": {
     "duration": 0.06571,
     "end_time": "2021-04-10T15:06:35.262993",
     "exception": false,
     "start_time": "2021-04-10T15:06:35.197283",
     "status": "completed"
    },
    "tags": []
   },
   "source": [
    "## 1.1 Columns individual analysis\n",
    "\n",
    "* numerical features (distplot): `timestamp`, `prior_question_elapsed_time`\n",
    "* categorical features (distplot): `user_id` count, `content_id` count, `task_container_id` count\n",
    "* categorical features (barplot): `user_answer` count, `answered_correctly` count, `prior_question_had_explanation` count\n",
    "\n",
    "### Predefined functions📂\n",
    "\n",
    "Because there is no possibility (yet) to use Rapids for visualization we need to preprocess and convert the data to numpy arrays and plot it afterwards."
   ]
  },
  {
   "cell_type": "code",
   "execution_count": 12,
   "metadata": {
    "execution": {
     "iopub.execute_input": "2021-04-10T15:06:35.401687Z",
     "iopub.status.busy": "2021-04-10T15:06:35.401050Z",
     "iopub.status.idle": "2021-04-10T15:06:35.404091Z",
     "shell.execute_reply": "2021-04-10T15:06:35.404678Z"
    },
    "papermill": {
     "duration": 0.078096,
     "end_time": "2021-04-10T15:06:35.404806",
     "exception": false,
     "start_time": "2021-04-10T15:06:35.326710",
     "status": "completed"
    },
    "tags": []
   },
   "outputs": [],
   "source": [
    "def distplot_features(df, feature, title, color = custom_colors[4], categorical=True):\n",
    "    '''Takes a column from the GPU dataframe and plots the distribution (after count).'''\n",
    "    \n",
    "    if categorical:\n",
    "        values = cupy.asnumpy(df[feature].value_counts().values)\n",
    "    else:\n",
    "        values = cupy.asnumpy(df[feature].values)\n",
    "        \n",
    "    print('Mean: {:,}'.format(np.mean(values)), \"\\n\"\n",
    "          'Median: {:,}'.format(np.median(values)), \"\\n\"\n",
    "          'Max: {:,}'.format(np.max(values)))\n",
    "\n",
    "    \n",
    "    plt.figure(figsize = (18, 3))\n",
    "    \n",
    "    if categorical:\n",
    "        sns.distplot(values, hist=False, color = color, kde_kws = {'lw':3})\n",
    "    else:\n",
    "        # To speed up the process\n",
    "        sns.distplot(values[::250000], hist=False, color = color, kde_kws = {'lw':3})\n",
    "    \n",
    "    plt.title(title, fontsize=15)\n",
    "    plt.show();\n",
    "    \n",
    "    del values\n",
    "    gc.collect()"
   ]
  },
  {
   "cell_type": "code",
   "execution_count": 13,
   "metadata": {
    "execution": {
     "iopub.execute_input": "2021-04-10T15:06:35.544661Z",
     "iopub.status.busy": "2021-04-10T15:06:35.542791Z",
     "iopub.status.idle": "2021-04-10T15:06:35.545317Z",
     "shell.execute_reply": "2021-04-10T15:06:35.545767Z"
    },
    "papermill": {
     "duration": 0.076315,
     "end_time": "2021-04-10T15:06:35.545878",
     "exception": false,
     "start_time": "2021-04-10T15:06:35.469563",
     "status": "completed"
    },
    "tags": []
   },
   "outputs": [],
   "source": [
    "def barplot_features(df, feature, title, palette = custom_colors[2:]):\n",
    "    '''Takes the numerical columns (with less than 10 categories) and plots the barplot.'''\n",
    "    \n",
    "    # We need to extract both the name of the category and the no. of appearences\n",
    "    index = cupy.asnumpy(df[feature].value_counts().reset_index()[\"index\"].values)\n",
    "    values = cupy.asnumpy(df[feature].value_counts().reset_index()[feature].values) \n",
    "\n",
    "    plt.figure(figsize = (18, 3))\n",
    "    sns.barplot(x = index, y = values, palette = palette)\n",
    "    plt.title(title, fontsize=15)\n",
    "    plt.show();\n",
    "    \n",
    "    del index, values\n",
    "    gc.collect()"
   ]
  },
  {
   "cell_type": "markdown",
   "metadata": {
    "papermill": {
     "duration": 0.066058,
     "end_time": "2021-04-10T15:06:35.679205",
     "exception": false,
     "start_time": "2021-04-10T15:06:35.613147",
     "status": "completed"
    },
    "tags": []
   },
   "source": [
    "### Inspect numerical features"
   ]
  },
  {
   "cell_type": "code",
   "execution_count": 14,
   "metadata": {
    "execution": {
     "iopub.execute_input": "2021-04-10T15:06:35.813812Z",
     "iopub.status.busy": "2021-04-10T15:06:35.812925Z",
     "iopub.status.idle": "2021-04-10T15:06:40.966666Z",
     "shell.execute_reply": "2021-04-10T15:06:40.967449Z"
    },
    "papermill": {
     "duration": 5.223018,
     "end_time": "2021-04-10T15:06:40.967583",
     "exception": false,
     "start_time": "2021-04-10T15:06:35.744565",
     "status": "completed"
    },
    "tags": []
   },
   "outputs": [
    {
     "name": "stdout",
     "output_type": "stream",
     "text": [
      "Mean: 7,703,643,654.326523 \n",
      "Median: 2,674,233,764.5 \n",
      "Max: 87,425,772,049\n"
     ]
    },
    {
     "data": {
      "image/png": "[encoded data removed]",
      "text/plain": [
       "<Figure size 1296x216 with 1 Axes>"
      ]
     },
     "metadata": {},
     "output_type": "display_data"
    },
    {
     "name": "stdout",
     "output_type": "stream",
     "text": [
      "Mean: 24,833.234375 \n",
      "Median: 21,000.0 \n",
      "Max: 300,000.0\n"
     ]
    },
    {
     "data": {
      "image/png": "[encoded data removed]",
      "text/plain": [
       "<Figure size 1296x216 with 1 Axes>"
      ]
     },
     "metadata": {},
     "output_type": "display_data"
    }
   ],
   "source": [
    "numerical_features = ['timestamp', 'prior_question_elapsed_time']\n",
    "\n",
    "for feature in numerical_features:\n",
    "    distplot_features(train, feature=feature, title = feature + \" distribution\", color = custom_colors[2], categorical=False)"
   ]
  },
  {
   "cell_type": "markdown",
   "metadata": {
    "papermill": {
     "duration": 0.070749,
     "end_time": "2021-04-10T15:06:41.108415",
     "exception": false,
     "start_time": "2021-04-10T15:06:41.037666",
     "status": "completed"
    },
    "tags": []
   },
   "source": [
    "### Inspect Categorical Features: many values"
   ]
  },
  {
   "cell_type": "code",
   "execution_count": 15,
   "metadata": {
    "execution": {
     "iopub.execute_input": "2021-04-10T15:06:41.259760Z",
     "iopub.status.busy": "2021-04-10T15:06:41.259114Z",
     "iopub.status.idle": "2021-04-10T15:06:42.857060Z",
     "shell.execute_reply": "2021-04-10T15:06:42.856181Z"
    },
    "papermill": {
     "duration": 1.678821,
     "end_time": "2021-04-10T15:06:42.857195",
     "exception": false,
     "start_time": "2021-04-10T15:06:41.178374",
     "status": "completed"
    },
    "tags": []
   },
   "outputs": [
    {
     "name": "stdout",
     "output_type": "stream",
     "text": [
      "Mean: 257.1542971528441 \n",
      "Median: 41.0 \n",
      "Max: 17,917\n"
     ]
    },
    {
     "data": {
      "image/png": "[encoded data removed]",
      "text/plain": [
       "<Figure size 1296x216 with 1 Axes>"
      ]
     },
     "metadata": {},
     "output_type": "display_data"
    },
    {
     "name": "stdout",
     "output_type": "stream",
     "text": [
      "Mean: 7,345.111885067479 \n",
      "Median: 4,728.5 \n",
      "Max: 213,605\n"
     ]
    },
    {
     "data": {
      "image/png": "[encoded data removed]",
      "text/plain": [
       "<Figure size 1296x216 with 1 Axes>"
      ]
     },
     "metadata": {},
     "output_type": "display_data"
    },
    {
     "name": "stdout",
     "output_type": "stream",
     "text": [
      "Mean: 10,123.0332 \n",
      "Median: 1,318.0 \n",
      "Max: 804,285\n"
     ]
    },
    {
     "data": {
      "image/png": "[encoded data removed]",
      "text/plain": [
       "<Figure size 1296x216 with 1 Axes>"
      ]
     },
     "metadata": {},
     "output_type": "display_data"
    }
   ],
   "source": [
    "categorical_features = ['user_id', 'content_id', 'task_container_id']\n",
    "\n",
    "for feature in categorical_features:\n",
    "    distplot_features(train, feature=feature, title = feature + \" countplot distribution\", color = custom_colors[3], categorical=True)"
   ]
  },
  {
   "cell_type": "markdown",
   "metadata": {
    "papermill": {
     "duration": 0.075855,
     "end_time": "2021-04-10T15:06:43.009740",
     "exception": false,
     "start_time": "2021-04-10T15:06:42.933885",
     "status": "completed"
    },
    "tags": []
   },
   "source": [
    "### Inspect Categorical Features: fiew values\n",
    "\n",
    "> There are only a fiew cases where content_type_id is = 1 (meaning lectures) - which is good, we're not supposed to predict those anyways."
   ]
  },
  {
   "cell_type": "code",
   "execution_count": 16,
   "metadata": {
    "execution": {
     "iopub.execute_input": "2021-04-10T15:06:43.168891Z",
     "iopub.status.busy": "2021-04-10T15:06:43.168163Z",
     "iopub.status.idle": "2021-04-10T15:06:45.609154Z",
     "shell.execute_reply": "2021-04-10T15:06:45.608036Z"
    },
    "papermill": {
     "duration": 2.52316,
     "end_time": "2021-04-10T15:06:45.609272",
     "exception": false,
     "start_time": "2021-04-10T15:06:43.086112",
     "status": "completed"
    },
    "tags": []
   },
   "outputs": [
    {
     "data": {
      "image/png": "[encoded data removed]",
      "text/plain": [
       "<Figure size 1296x216 with 1 Axes>"
      ]
     },
     "metadata": {},
     "output_type": "display_data"
    },
    {
     "data": {
      "image/png": "[encoded data removed]",
      "text/plain": [
       "<Figure size 1296x216 with 1 Axes>"
      ]
     },
     "metadata": {},
     "output_type": "display_data"
    },
    {
     "data": {
      "image/png": "[encoded data removed]",
      "text/plain": [
       "<Figure size 1296x216 with 1 Axes>"
      ]
     },
     "metadata": {},
     "output_type": "display_data"
    },
    {
     "data": {
      "image/png": "[encoded data removed]",
      "text/plain": [
       "<Figure size 1296x216 with 1 Axes>"
      ]
     },
     "metadata": {},
     "output_type": "display_data"
    }
   ],
   "source": [
    "categorical_for_bar = ['content_type_id', 'user_answer', \n",
    "                       'answered_correctly', 'prior_question_had_explanation']\n",
    "\n",
    "for feature in categorical_for_bar:\n",
    "    barplot_features(train, feature=feature, title = feature + \" barplot\", palette = custom_colors)"
   ]
  },
  {
   "cell_type": "markdown",
   "metadata": {
    "papermill": {
     "duration": 0.081792,
     "end_time": "2021-04-10T15:06:45.813973",
     "exception": false,
     "start_time": "2021-04-10T15:06:45.732181",
     "status": "completed"
    },
    "tags": []
   },
   "source": [
    "## 1.2 Handle Outliers\n",
    "\n",
    "> 📌Note: The **outliers** might strongly influence the future models. Hence, we need to carefully handle them. However, by trying to erase the outliers we can erase up to 10% of the data, which is valuable information for training our models.\n",
    "\n",
    "Eg.: Below we find the upper boundry for the outliers for the feature `timestamp`. This value is equal to 26,138,936,852 milliseconds, which means 7,700 hours, which means about 320 days."
   ]
  },
  {
   "cell_type": "code",
   "execution_count": 17,
   "metadata": {
    "execution": {
     "iopub.execute_input": "2021-04-10T15:06:45.985614Z",
     "iopub.status.busy": "2021-04-10T15:06:45.984594Z",
     "iopub.status.idle": "2021-04-10T15:06:47.560292Z",
     "shell.execute_reply": "2021-04-10T15:06:47.559751Z"
    },
    "papermill": {
     "duration": 1.66406,
     "end_time": "2021-04-10T15:06:47.560406",
     "exception": false,
     "start_time": "2021-04-10T15:06:45.896346",
     "status": "completed"
    },
    "tags": []
   },
   "outputs": [
    {
     "name": "stdout",
     "output_type": "stream",
     "text": [
      "Timestamp: around 9.4% of the data would be erased. \n",
      "The outlier boundry is 24,024,861,068.375, which means 6,673.6 hrs, which means 278.07 days.\n"
     ]
    },
    {
     "data": {
      "text/plain": [
       "0"
      ]
     },
     "execution_count": 17,
     "metadata": {},
     "output_type": "execute_result"
    }
   ],
   "source": [
    "# Total rows we started with\n",
    "total = len(train)\n",
    "feature = \"timestamp\"\n",
    "\n",
    "# Compute Outliers\n",
    "Q1 = cupy.percentile(train[feature].values, q = 25).item()\n",
    "Q3 = cupy.percentile(train[feature].values, q = 75).item()\n",
    "IQR = Q3 - Q1\n",
    "\n",
    "# We'll look only at the upper interval outliers\n",
    "outlier_boundry = Q3 + 1.5*IQR\n",
    "\n",
    "print('Timestamp: around {:.2}% of the data would be erased.'.format(len(train[train[feature] >= outlier_boundry])/total * 100), \n",
    "      \"\\n\"+\n",
    "      'The outlier boundry is {:,}, which means {:,.5} hrs, which means {:,.5} days.'.format(outlier_boundry, (outlier_boundry / 3.6e+6),\n",
    "                                                                                       (outlier_boundry / 3.6e+6)/24))\n",
    "\n",
    "gc.collect()"
   ]
  },
  {
   "cell_type": "markdown",
   "metadata": {
    "papermill": {
     "duration": 0.085805,
     "end_time": "2021-04-10T15:06:47.729136",
     "exception": false,
     "start_time": "2021-04-10T15:06:47.643331",
     "status": "completed"
    },
    "tags": []
   },
   "source": [
    "> 📌Note: However, I would erase all pupils (`user_id`) that have less than 5 appearences in the data (no prediction can be made on these students)  "
   ]
  },
  {
   "cell_type": "code",
   "execution_count": 18,
   "metadata": {
    "execution": {
     "iopub.execute_input": "2021-04-10T15:06:47.901229Z",
     "iopub.status.busy": "2021-04-10T15:06:47.900424Z",
     "iopub.status.idle": "2021-04-10T15:06:49.156589Z",
     "shell.execute_reply": "2021-04-10T15:06:49.155760Z"
    },
    "papermill": {
     "duration": 1.344826,
     "end_time": "2021-04-10T15:06:49.156695",
     "exception": false,
     "start_time": "2021-04-10T15:06:47.811869",
     "status": "completed"
    },
    "tags": []
   },
   "outputs": [
    {
     "name": "stdout",
     "output_type": "stream",
     "text": [
      "We erased 599 rows meaning 0.000592% of all data.\n"
     ]
    }
   ],
   "source": [
    "# Select ids to erase\n",
    "ids_to_erase = train[\"user_id\"].value_counts().reset_index()[train[\"user_id\"].value_counts().reset_index()[\"user_id\"] < 5]\\\n",
    "                                                                                                                [\"index\"].values\n",
    "\n",
    "# Erase the ids\n",
    "new_train = train[~train['user_id'].isin(ids_to_erase)]\n",
    "\n",
    "print(\"We erased {} rows meaning {:.3}% of all data.\".format(len(train)-len(new_train), (1 - len(new_train)/len(train))*100))\n",
    "del ids_to_erase"
   ]
  },
  {
   "cell_type": "markdown",
   "metadata": {
    "papermill": {
     "duration": 0.081658,
     "end_time": "2021-04-10T15:06:49.323263",
     "exception": false,
     "start_time": "2021-04-10T15:06:49.241605",
     "status": "completed"
    },
    "tags": []
   },
   "source": [
    "## 1.3 Curiosities\n",
    "\n",
    "First I would like to see if the number of appearences of 1 ID (1 pupil) corresponds to their overall performance (other words, if you assess 1 student multiple times, will they perform better?)"
   ]
  },
  {
   "cell_type": "code",
   "execution_count": 19,
   "metadata": {
    "execution": {
     "iopub.execute_input": "2021-04-10T15:06:49.524555Z",
     "iopub.status.busy": "2021-04-10T15:06:49.523583Z",
     "iopub.status.idle": "2021-04-10T15:06:53.498005Z",
     "shell.execute_reply": "2021-04-10T15:06:53.496870Z"
    },
    "papermill": {
     "duration": 4.080182,
     "end_time": "2021-04-10T15:06:53.498154",
     "exception": false,
     "start_time": "2021-04-10T15:06:49.417972",
     "status": "completed"
    },
    "tags": []
   },
   "outputs": [],
   "source": [
    "# Count how many times the user answered correctly out of all available times\n",
    "user_performance = train.groupby(\"user_id\").agg({ 'row_id': ['count'], 'answered_correctly': ['sum'] }).reset_index()\n",
    "user_performance.columns = [\"user_id\", \"total_count\", \"correct_count\"]\n",
    "user_performance[\"performance\"] = user_performance[\"correct_count\"] / user_performance[\"total_count\"]\n",
    "\n",
    "# Create intervals for number of appearences\n",
    "# between 0 and 1000, 1000 and 2500 and 2500+\n",
    "def condition(x):\n",
    "    if x <= 1000:\n",
    "        return 0\n",
    "    elif (x > 1000) & (x <= 2500):\n",
    "        return 1\n",
    "    else:\n",
    "        return 2\n",
    "    \n",
    "user_performance[\"total_interval\"] = user_performance[\"total_count\"].applymap(condition)"
   ]
  },
  {
   "cell_type": "markdown",
   "metadata": {
    "papermill": {
     "duration": 0.081172,
     "end_time": "2021-04-10T15:06:53.660327",
     "exception": false,
     "start_time": "2021-04-10T15:06:53.579155",
     "status": "completed"
    },
    "tags": []
   },
   "source": [
    "> 📌Note: So yes, the *average* performance increases along with the number of times one student appears in the data."
   ]
  },
  {
   "cell_type": "code",
   "execution_count": 20,
   "metadata": {
    "execution": {
     "iopub.execute_input": "2021-04-10T15:06:53.831741Z",
     "iopub.status.busy": "2021-04-10T15:06:53.830821Z",
     "iopub.status.idle": "2021-04-10T15:06:56.852780Z",
     "shell.execute_reply": "2021-04-10T15:06:56.852291Z"
    },
    "papermill": {
     "duration": 3.110477,
     "end_time": "2021-04-10T15:06:56.852892",
     "exception": false,
     "start_time": "2021-04-10T15:06:53.742415",
     "status": "completed"
    },
    "tags": []
   },
   "outputs": [
    {
     "data": {
      "image/png": "[encoded data removed]",
      "text/plain": [
       "<Figure size 1296x288 with 1 Axes>"
      ]
     },
     "metadata": {},
     "output_type": "display_data"
    }
   ],
   "source": [
    "# Convert to numpy arrays (so we can plot)\n",
    "x = cupy.asnumpy(user_performance[\"total_interval\"].values)\n",
    "y = cupy.asnumpy(user_performance[\"performance\"].values)\n",
    "\n",
    "# Plot\n",
    "plt.figure(figsize = (18, 4))\n",
    "sns.barplot(x = x, y = y, palette = custom_colors[2:])\n",
    "plt.title(\"Performance over number of appearences\", fontsize = 15)\n",
    "plt.xticks([0, 1, 2], ['<1000', '1000-2500', '2500+']);\n",
    "\n",
    "del user_performance"
   ]
  },
  {
   "cell_type": "markdown",
   "metadata": {
    "papermill": {
     "duration": 0.081721,
     "end_time": "2021-04-10T15:06:57.017190",
     "exception": false,
     "start_time": "2021-04-10T15:06:56.935469",
     "status": "completed"
    },
    "tags": []
   },
   "source": [
    "## 1.4 Save and delete\n",
    "\n",
    "> To keep the notebook as light as possible and to not overload the memory, we save the `train` data in .feather format (lighter, takes about 7 seconds to upload using `cudf`) and delete the dataframes.\n",
    "\n",
    "*UPDATE: even better - as Chris Deotte recommends: \"Instead of using .feather use .parquet. RAPIDS cuDF can read parquet 6x faster than feather (and writes parquet 1.1x faster)\"*"
   ]
  },
  {
   "cell_type": "code",
   "execution_count": 21,
   "metadata": {
    "execution": {
     "iopub.execute_input": "2021-04-10T15:06:57.189966Z",
     "iopub.status.busy": "2021-04-10T15:06:57.189443Z",
     "iopub.status.idle": "2021-04-10T15:07:02.780424Z",
     "shell.execute_reply": "2021-04-10T15:07:02.779208Z"
    },
    "papermill": {
     "duration": 5.67935,
     "end_time": "2021-04-10T15:07:02.780584",
     "exception": false,
     "start_time": "2021-04-10T15:06:57.101234",
     "status": "completed"
    },
    "tags": []
   },
   "outputs": [],
   "source": [
    "# First cleanup\n",
    "del train\n",
    "gc.collect()\n",
    "\n",
    "\n",
    "# Checkpoint: save to .parquet\n",
    "new_train.to_parquet('new_train.parquet')"
   ]
  },
  {
   "cell_type": "code",
   "execution_count": 22,
   "metadata": {
    "execution": {
     "iopub.execute_input": "2021-04-10T15:07:03.017458Z",
     "iopub.status.busy": "2021-04-10T15:07:03.016727Z",
     "iopub.status.idle": "2021-04-10T15:07:03.173880Z",
     "shell.execute_reply": "2021-04-10T15:07:03.173405Z"
    },
    "papermill": {
     "duration": 0.305416,
     "end_time": "2021-04-10T15:07:03.173977",
     "exception": false,
     "start_time": "2021-04-10T15:07:02.868561",
     "status": "completed"
    },
    "tags": []
   },
   "outputs": [
    {
     "data": {
      "text/plain": [
       "44"
      ]
     },
     "execution_count": 22,
     "metadata": {},
     "output_type": "execute_result"
    }
   ],
   "source": [
    "# Clean the environment\n",
    "del new_train\n",
    "gc.collect()"
   ]
  },
  {
   "cell_type": "markdown",
   "metadata": {
    "papermill": {
     "duration": 0.095097,
     "end_time": "2021-04-10T15:07:03.357658",
     "exception": false,
     "start_time": "2021-04-10T15:07:03.262561",
     "status": "completed"
    },
    "tags": []
   },
   "source": [
    "# 2. questions.csv\n",
    "\n",
    "* `question_id`: foreign key for the train/test `content_id` column, when the content type is question (0).\n",
    "* `bundle_id`: code for which questions are served together.\n",
    "* `correct_answer`: the answer to the question. Can be compared with the train user_answer column to check if the user was right.\n",
    "* `part`: the relevant section of the TOEIC test.\n",
    "* `tags`: one or more detailed tag codes for the question. The meaning of the tags will not be provided, but these codes are sufficient for clustering the questions together.\n",
    "\n",
    "> The Test of English for International Communication (TOEIC) is an international standardized test of English language proficiency for non-native speakers."
   ]
  },
  {
   "cell_type": "code",
   "execution_count": 23,
   "metadata": {
    "execution": {
     "iopub.execute_input": "2021-04-10T15:07:03.552683Z",
     "iopub.status.busy": "2021-04-10T15:07:03.552117Z",
     "iopub.status.idle": "2021-04-10T15:07:03.641426Z",
     "shell.execute_reply": "2021-04-10T15:07:03.642226Z"
    },
    "papermill": {
     "duration": 0.189236,
     "end_time": "2021-04-10T15:07:03.642390",
     "exception": false,
     "start_time": "2021-04-10T15:07:03.453154",
     "status": "completed"
    },
    "tags": []
   },
   "outputs": [
    {
     "name": "stdout",
     "output_type": "stream",
     "text": [
      "Rows: 13,523 \n",
      "Columns: 5\n",
      "tags has: 1 (0.0074%) missing values.\n"
     ]
    },
    {
     "data": {
      "text/html": [
       "<div>\n",
       "<style scoped>\n",
       "    .dataframe tbody tr th:only-of-type {\n",
       "        vertical-align: middle;\n",
       "    }\n",
       "\n",
       "    .dataframe tbody tr th {\n",
       "        vertical-align: top;\n",
       "    }\n",
       "\n",
       "    .dataframe thead th {\n",
       "        text-align: right;\n",
       "    }\n",
       "</style>\n",
       "<table border=\"1\" class=\"dataframe\">\n",
       "  <thead>\n",
       "    <tr style=\"text-align: right;\">\n",
       "      <th></th>\n",
       "      <th>question_id</th>\n",
       "      <th>bundle_id</th>\n",
       "      <th>correct_answer</th>\n",
       "      <th>part</th>\n",
       "      <th>tags</th>\n",
       "    </tr>\n",
       "  </thead>\n",
       "  <tbody>\n",
       "    <tr>\n",
       "      <th>0</th>\n",
       "      <td>0</td>\n",
       "      <td>0</td>\n",
       "      <td>0</td>\n",
       "      <td>1</td>\n",
       "      <td>51 131 162 38</td>\n",
       "    </tr>\n",
       "    <tr>\n",
       "      <th>1</th>\n",
       "      <td>1</td>\n",
       "      <td>1</td>\n",
       "      <td>1</td>\n",
       "      <td>1</td>\n",
       "      <td>131 36 81</td>\n",
       "    </tr>\n",
       "    <tr>\n",
       "      <th>2</th>\n",
       "      <td>2</td>\n",
       "      <td>2</td>\n",
       "      <td>0</td>\n",
       "      <td>1</td>\n",
       "      <td>131 101 162 92</td>\n",
       "    </tr>\n",
       "    <tr>\n",
       "      <th>3</th>\n",
       "      <td>3</td>\n",
       "      <td>3</td>\n",
       "      <td>0</td>\n",
       "      <td>1</td>\n",
       "      <td>131 149 162 29</td>\n",
       "    </tr>\n",
       "    <tr>\n",
       "      <th>4</th>\n",
       "      <td>4</td>\n",
       "      <td>4</td>\n",
       "      <td>3</td>\n",
       "      <td>1</td>\n",
       "      <td>131 5 162 38</td>\n",
       "    </tr>\n",
       "  </tbody>\n",
       "</table>\n",
       "</div>"
      ],
      "text/plain": [
       "   question_id  bundle_id  correct_answer  part            tags\n",
       "0            0          0               0     1   51 131 162 38\n",
       "1            1          1               1     1       131 36 81\n",
       "2            2          2               0     1  131 101 162 92\n",
       "3            3          3               0     1  131 149 162 29\n",
       "4            4          4               3     1    131 5 162 38"
      ]
     },
     "execution_count": 23,
     "metadata": {},
     "output_type": "execute_result"
    }
   ],
   "source": [
    "questions = cudf.read_csv('../input/riiid-test-answer-prediction/questions.csv')\n",
    "\n",
    "# Data Information\n",
    "print(\"Rows: {:,}\".format(len(questions)), \"\\n\" +\n",
    "      \"Columns: {}\".format(len(questions.columns)))\n",
    "\n",
    "# Find Missing Data if any\n",
    "total = len(questions)\n",
    "\n",
    "for column in questions.columns:\n",
    "    if questions[column].isna().sum() != 0:\n",
    "        print(\"{} has: {:,} ({:.2}%) missing values.\".format(column, questions[column].isna().sum(), \n",
    "                                                             (questions[column].isna().sum()/total)*100))\n",
    "        \n",
    "        \n",
    "# Fill in missing values with \"-1\"\n",
    "questions[\"tags\"] = questions[\"tags\"].fillna(-1)\n",
    "\n",
    "questions.head()"
   ]
  },
  {
   "cell_type": "markdown",
   "metadata": {
    "papermill": {
     "duration": 12.266551,
     "end_time": "2021-04-10T15:07:16.002925",
     "exception": false,
     "start_time": "2021-04-10T15:07:03.736374",
     "status": "completed"
    },
    "tags": []
   },
   "source": [
    "## 2.1 Inspect the columns\n",
    "\n",
    "* categorical features (distplot): `question_id` count, `bundle_id` count, `tags` count\n",
    "* categorical features (barplot): `correct_answer`, `part`"
   ]
  },
  {
   "cell_type": "code",
   "execution_count": 24,
   "metadata": {
    "execution": {
     "iopub.execute_input": "2021-04-10T15:07:16.183295Z",
     "iopub.status.busy": "2021-04-10T15:07:16.182441Z",
     "iopub.status.idle": "2021-04-10T15:07:16.207775Z",
     "shell.execute_reply": "2021-04-10T15:07:16.208742Z"
    },
    "papermill": {
     "duration": 0.117781,
     "end_time": "2021-04-10T15:07:16.208916",
     "exception": false,
     "start_time": "2021-04-10T15:07:16.091135",
     "status": "completed"
    },
    "tags": []
   },
   "outputs": [
    {
     "name": "stdout",
     "output_type": "stream",
     "text": [
      "There is a total of 13,523 IDs. \n",
      "\n",
      "There are 9,765 unique bundle IDs.\n"
     ]
    }
   ],
   "source": [
    "# ----- question_id -----\n",
    "\n",
    "# The table contains an equal number of IDs for each question\n",
    "print('There is a total of {:,} IDs.'.format(len(questions['question_id'].value_counts())), \"\\n\")\n",
    "\n",
    "# ----- bundle_id -----\n",
    "print('There are {:,} unique bundle IDs.'.format(questions['bundle_id'].nunique()))"
   ]
  },
  {
   "cell_type": "markdown",
   "metadata": {
    "papermill": {
     "duration": 0.086634,
     "end_time": "2021-04-10T15:07:16.384556",
     "exception": false,
     "start_time": "2021-04-10T15:07:16.297922",
     "status": "completed"
    },
    "tags": []
   },
   "source": [
    "> 📌Note: majority of the questions are from part 5 - if this distribution doesn't match the `test` set, there might be some issues :)"
   ]
  },
  {
   "cell_type": "code",
   "execution_count": 25,
   "metadata": {
    "execution": {
     "iopub.execute_input": "2021-04-10T15:07:16.579640Z",
     "iopub.status.busy": "2021-04-10T15:07:16.578647Z",
     "iopub.status.idle": "2021-04-10T15:07:17.308765Z",
     "shell.execute_reply": "2021-04-10T15:07:17.309335Z"
    },
    "papermill": {
     "duration": 0.832684,
     "end_time": "2021-04-10T15:07:17.309467",
     "exception": false,
     "start_time": "2021-04-10T15:07:16.476783",
     "status": "completed"
    },
    "tags": []
   },
   "outputs": [
    {
     "data": {
      "image/png": "[encoded data removed]",
      "text/plain": [
       "<Figure size 1296x216 with 1 Axes>"
      ]
     },
     "metadata": {},
     "output_type": "display_data"
    },
    {
     "data": {
      "image/png": "[encoded data removed]",
      "text/plain": [
       "<Figure size 1296x216 with 1 Axes>"
      ]
     },
     "metadata": {},
     "output_type": "display_data"
    }
   ],
   "source": [
    "# ----- part & correct_answer -----\n",
    "\n",
    "for feature in ['part', 'correct_answer']:\n",
    "    barplot_features(questions, feature=feature, title=feature + \" - barplot distribution\")"
   ]
  },
  {
   "cell_type": "code",
   "execution_count": 26,
   "metadata": {
    "execution": {
     "iopub.execute_input": "2021-04-10T15:07:17.493646Z",
     "iopub.status.busy": "2021-04-10T15:07:17.492926Z",
     "iopub.status.idle": "2021-04-10T15:07:17.955859Z",
     "shell.execute_reply": "2021-04-10T15:07:17.954796Z"
    },
    "papermill": {
     "duration": 0.555084,
     "end_time": "2021-04-10T15:07:17.955970",
     "exception": false,
     "start_time": "2021-04-10T15:07:17.400886",
     "status": "completed"
    },
    "tags": []
   },
   "outputs": [
    {
     "name": "stdout",
     "output_type": "stream",
     "text": [
      "Mean: 8.89671052631579 \n",
      "Median: 2.0 \n",
      "Max: 738\n"
     ]
    },
    {
     "data": {
      "image/png": "[encoded data removed]",
      "text/plain": [
       "<Figure size 1296x216 with 1 Axes>"
      ]
     },
     "metadata": {},
     "output_type": "display_data"
    }
   ],
   "source": [
    "# ----- tags -----\n",
    "distplot_features(questions, 'tags', title = \"Tags - Count Distribution\", color = custom_colors[0], categorical=True)"
   ]
  },
  {
   "cell_type": "markdown",
   "metadata": {
    "papermill": {
     "duration": 0.157787,
     "end_time": "2021-04-10T15:07:18.221772",
     "exception": false,
     "start_time": "2021-04-10T15:07:18.063985",
     "status": "completed"
    },
    "tags": []
   },
   "source": [
    "## 2.2 Save and delete"
   ]
  },
  {
   "cell_type": "code",
   "execution_count": 27,
   "metadata": {
    "execution": {
     "iopub.execute_input": "2021-04-10T15:07:18.567334Z",
     "iopub.status.busy": "2021-04-10T15:07:18.566534Z",
     "iopub.status.idle": "2021-04-10T15:07:18.600129Z",
     "shell.execute_reply": "2021-04-10T15:07:18.601242Z"
    },
    "papermill": {
     "duration": 0.205818,
     "end_time": "2021-04-10T15:07:18.601399",
     "exception": false,
     "start_time": "2021-04-10T15:07:18.395581",
     "status": "completed"
    },
    "tags": []
   },
   "outputs": [],
   "source": [
    "# Checkpoint: save to parquet\n",
    "questions.to_parquet('questions.parquet')"
   ]
  },
  {
   "cell_type": "code",
   "execution_count": 28,
   "metadata": {
    "execution": {
     "iopub.execute_input": "2021-04-10T15:07:18.956039Z",
     "iopub.status.busy": "2021-04-10T15:07:18.954535Z",
     "iopub.status.idle": "2021-04-10T15:07:18.963995Z",
     "shell.execute_reply": "2021-04-10T15:07:18.963545Z"
    },
    "papermill": {
     "duration": 0.257846,
     "end_time": "2021-04-10T15:07:18.964104",
     "exception": false,
     "start_time": "2021-04-10T15:07:18.706258",
     "status": "completed"
    },
    "tags": []
   },
   "outputs": [
    {
     "data": {
      "text/plain": [
       "40"
      ]
     },
     "execution_count": 28,
     "metadata": {},
     "output_type": "execute_result"
    }
   ],
   "source": [
    "del questions\n",
    "gc.collect()"
   ]
  },
  {
   "cell_type": "markdown",
   "metadata": {
    "papermill": {
     "duration": 0.093036,
     "end_time": "2021-04-10T15:07:19.160767",
     "exception": false,
     "start_time": "2021-04-10T15:07:19.067731",
     "status": "completed"
    },
    "tags": []
   },
   "source": [
    "# 3. lectures.csv\n",
    "\n",
    "* `lecture_id`: foreign key for the train/test `content_id` column, when the content type is lecture (1).\n",
    "* `part`: top level category code for the lecture.\n",
    "* `tag`: one tag codes for the lecture. The meaning of the tags will not be provided, but these codes are sufficient for clustering the lectures together.\n",
    "* `type_of`: brief description of the core purpose of the lecture (`string` - so this data needs to be treated a bit different)\n",
    "\n",
    "*no missing values*"
   ]
  },
  {
   "cell_type": "code",
   "execution_count": 29,
   "metadata": {
    "execution": {
     "iopub.execute_input": "2021-04-10T15:07:19.353072Z",
     "iopub.status.busy": "2021-04-10T15:07:19.352478Z",
     "iopub.status.idle": "2021-04-10T15:07:19.405738Z",
     "shell.execute_reply": "2021-04-10T15:07:19.405307Z"
    },
    "papermill": {
     "duration": 0.150308,
     "end_time": "2021-04-10T15:07:19.405835",
     "exception": false,
     "start_time": "2021-04-10T15:07:19.255527",
     "status": "completed"
    },
    "tags": []
   },
   "outputs": [
    {
     "name": "stdout",
     "output_type": "stream",
     "text": [
      "Rows: 418 \n",
      "Columns: 4\n"
     ]
    },
    {
     "data": {
      "text/html": [
       "<div>\n",
       "<style scoped>\n",
       "    .dataframe tbody tr th:only-of-type {\n",
       "        vertical-align: middle;\n",
       "    }\n",
       "\n",
       "    .dataframe tbody tr th {\n",
       "        vertical-align: top;\n",
       "    }\n",
       "\n",
       "    .dataframe thead th {\n",
       "        text-align: right;\n",
       "    }\n",
       "</style>\n",
       "<table border=\"1\" class=\"dataframe\">\n",
       "  <thead>\n",
       "    <tr style=\"text-align: right;\">\n",
       "      <th></th>\n",
       "      <th>lecture_id</th>\n",
       "      <th>tag</th>\n",
       "      <th>part</th>\n",
       "      <th>type_of</th>\n",
       "    </tr>\n",
       "  </thead>\n",
       "  <tbody>\n",
       "    <tr>\n",
       "      <th>0</th>\n",
       "      <td>89</td>\n",
       "      <td>159</td>\n",
       "      <td>5</td>\n",
       "      <td>0</td>\n",
       "    </tr>\n",
       "    <tr>\n",
       "      <th>1</th>\n",
       "      <td>100</td>\n",
       "      <td>70</td>\n",
       "      <td>1</td>\n",
       "      <td>0</td>\n",
       "    </tr>\n",
       "    <tr>\n",
       "      <th>2</th>\n",
       "      <td>185</td>\n",
       "      <td>45</td>\n",
       "      <td>6</td>\n",
       "      <td>0</td>\n",
       "    </tr>\n",
       "    <tr>\n",
       "      <th>3</th>\n",
       "      <td>192</td>\n",
       "      <td>79</td>\n",
       "      <td>5</td>\n",
       "      <td>2</td>\n",
       "    </tr>\n",
       "    <tr>\n",
       "      <th>4</th>\n",
       "      <td>317</td>\n",
       "      <td>156</td>\n",
       "      <td>5</td>\n",
       "      <td>2</td>\n",
       "    </tr>\n",
       "  </tbody>\n",
       "</table>\n",
       "</div>"
      ],
      "text/plain": [
       "   lecture_id  tag  part  type_of\n",
       "0          89  159     5        0\n",
       "1         100   70     1        0\n",
       "2         185   45     6        0\n",
       "3         192   79     5        2\n",
       "4         317  156     5        2"
      ]
     },
     "execution_count": 29,
     "metadata": {},
     "output_type": "execute_result"
    }
   ],
   "source": [
    "lectures = cudf.read_csv('../input/riiid-test-answer-prediction/lectures.csv')\n",
    "\n",
    "# Encode 'type_of' column\n",
    "lectures.type_of,codes = lectures['type_of'].factorize()\n",
    "\n",
    "# Data Information\n",
    "print(\"Rows: {:,}\".format(len(lectures)), \"\\n\" +\n",
    "      \"Columns: {}\".format(len(lectures.columns)))\n",
    "lectures.head()"
   ]
  },
  {
   "cell_type": "markdown",
   "metadata": {
    "papermill": {
     "duration": 0.107551,
     "end_time": "2021-04-10T15:07:19.611655",
     "exception": false,
     "start_time": "2021-04-10T15:07:19.504104",
     "status": "completed"
    },
    "tags": []
   },
   "source": [
    "## 3.1 Inspect the columns"
   ]
  },
  {
   "cell_type": "code",
   "execution_count": 30,
   "metadata": {
    "execution": {
     "iopub.execute_input": "2021-04-10T15:07:19.817937Z",
     "iopub.status.busy": "2021-04-10T15:07:19.817111Z",
     "iopub.status.idle": "2021-04-10T15:07:19.855245Z",
     "shell.execute_reply": "2021-04-10T15:07:19.854565Z"
    },
    "papermill": {
     "duration": 0.143374,
     "end_time": "2021-04-10T15:07:19.855404",
     "exception": false,
     "start_time": "2021-04-10T15:07:19.712030",
     "status": "completed"
    },
    "tags": []
   },
   "outputs": [
    {
     "name": "stdout",
     "output_type": "stream",
     "text": [
      "There is a total of 418 IDs. \n",
      "\n",
      "There are a total of 151 unique tags IDs.\n"
     ]
    }
   ],
   "source": [
    "# ----- lecture_id -----\n",
    "# The table contains an equal number of IDs for each question\n",
    "print('There is a total of {:,} IDs.'.format(len(lectures['lecture_id'].value_counts())), \"\\n\")\n",
    "\n",
    "# There are 151 unique tags\n",
    "print('There are a total of {:,} unique tags IDs.'.format(len(lectures['tag'].value_counts())))"
   ]
  },
  {
   "cell_type": "markdown",
   "metadata": {
    "papermill": {
     "duration": 0.095393,
     "end_time": "2021-04-10T15:07:20.048287",
     "exception": false,
     "start_time": "2021-04-10T15:07:19.952894",
     "status": "completed"
    },
    "tags": []
   },
   "source": [
    "## 3.2 Save and delete"
   ]
  },
  {
   "cell_type": "code",
   "execution_count": 31,
   "metadata": {
    "execution": {
     "iopub.execute_input": "2021-04-10T15:07:20.246643Z",
     "iopub.status.busy": "2021-04-10T15:07:20.245746Z",
     "iopub.status.idle": "2021-04-10T15:07:20.399591Z",
     "shell.execute_reply": "2021-04-10T15:07:20.399077Z"
    },
    "papermill": {
     "duration": 0.256025,
     "end_time": "2021-04-10T15:07:20.399729",
     "exception": false,
     "start_time": "2021-04-10T15:07:20.143704",
     "status": "completed"
    },
    "tags": []
   },
   "outputs": [
    {
     "data": {
      "text/plain": [
       "40"
      ]
     },
     "execution_count": 31,
     "metadata": {},
     "output_type": "execute_result"
    }
   ],
   "source": [
    "lectures.to_parquet(\"lectures.parquet\")\n",
    "\n",
    "del lectures\n",
    "gc.collect()"
   ]
  },
  {
   "cell_type": "markdown",
   "metadata": {
    "papermill": {
     "duration": 0.096163,
     "end_time": "2021-04-10T15:07:20.592201",
     "exception": false,
     "start_time": "2021-04-10T15:07:20.496038",
     "status": "completed"
    },
    "tags": []
   },
   "source": [
    "<img src=\"https://i.imgur.com/3cBHzEF.png\">\n",
    "\n",
    "> Let's look again at the structure of our data:\n",
    "<img src=\"https://i.imgur.com/gjuzFkl.png\" width=550>\n",
    "\n",
    "<div class=\"alert alert-block alert-success\">\n",
    "<p><b>This section uses the <code>cuML</code> package and XGBoost to compute the predictions.</b></p>\n",
    "</div>"
   ]
  },
  {
   "cell_type": "code",
   "execution_count": 32,
   "metadata": {
    "execution": {
     "iopub.execute_input": "2021-04-10T15:07:20.796547Z",
     "iopub.status.busy": "2021-04-10T15:07:20.795920Z",
     "iopub.status.idle": "2021-04-10T15:07:20.800415Z",
     "shell.execute_reply": "2021-04-10T15:07:20.799856Z"
    },
    "papermill": {
     "duration": 0.110933,
     "end_time": "2021-04-10T15:07:20.800521",
     "exception": false,
     "start_time": "2021-04-10T15:07:20.689588",
     "status": "completed"
    },
    "tags": []
   },
   "outputs": [],
   "source": [
    "cudf.set_allocator(\"managed\")"
   ]
  },
  {
   "cell_type": "code",
   "execution_count": 33,
   "metadata": {
    "execution": {
     "iopub.execute_input": "2021-04-10T15:07:20.998268Z",
     "iopub.status.busy": "2021-04-10T15:07:20.997648Z",
     "iopub.status.idle": "2021-04-10T15:07:51.294851Z",
     "shell.execute_reply": "2021-04-10T15:07:51.291209Z"
    },
    "papermill": {
     "duration": 30.39748,
     "end_time": "2021-04-10T15:07:51.295007",
     "exception": false,
     "start_time": "2021-04-10T15:07:20.897527",
     "status": "completed"
    },
    "tags": []
   },
   "outputs": [
    {
     "name": "stdout",
     "output_type": "stream",
     "text": [
      "CPU times: user 1.79 s, sys: 950 ms, total: 2.74 s\n",
      "Wall time: 30.1 s\n"
     ]
    }
   ],
   "source": [
    "%%time\n",
    "# Import the data\n",
    "train = cudf.read_parquet(\"../input/riiid-answer-correctness-prediction-rapids/new_train.parquet\")\n",
    "questions = cudf.read_parquet(\"../input/riiid-answer-correctness-prediction-rapids/questions.parquet\")\n",
    "\n",
    "# Lectures we won't load, as we are not supposed to predict for these rows"
   ]
  },
  {
   "cell_type": "code",
   "execution_count": 34,
   "metadata": {
    "execution": {
     "iopub.execute_input": "2021-04-10T15:07:51.632650Z",
     "iopub.status.busy": "2021-04-10T15:07:51.631747Z",
     "iopub.status.idle": "2021-04-10T15:07:53.903860Z",
     "shell.execute_reply": "2021-04-10T15:07:53.904610Z"
    },
    "papermill": {
     "duration": 2.433997,
     "end_time": "2021-04-10T15:07:53.904781",
     "exception": false,
     "start_time": "2021-04-10T15:07:51.470784",
     "status": "completed"
    },
    "tags": []
   },
   "outputs": [
    {
     "name": "stdout",
     "output_type": "stream",
     "text": [
      "CPU times: user 1.74 s, sys: 559 ms, total: 2.3 s\n",
      "Wall time: 2.26 s\n"
     ]
    }
   ],
   "source": [
    "%%time\n",
    "# Let's exclude all observations where (content_type_id = 1) & (answered_correctly = -1)\n",
    "train = train[train['content_type_id'] != 1]\n",
    "train = train[train['answered_correctly'] != -1].reset_index(drop=True)"
   ]
  },
  {
   "cell_type": "markdown",
   "metadata": {
    "papermill": {
     "duration": 0.098595,
     "end_time": "2021-04-10T15:07:54.103428",
     "exception": false,
     "start_time": "2021-04-10T15:07:54.004833",
     "status": "completed"
    },
    "tags": []
   },
   "source": [
    "# 1. Feature Engineering"
   ]
  },
  {
   "cell_type": "code",
   "execution_count": 35,
   "metadata": {
    "execution": {
     "iopub.execute_input": "2021-04-10T15:07:54.307924Z",
     "iopub.status.busy": "2021-04-10T15:07:54.307140Z",
     "iopub.status.idle": "2021-04-10T15:07:54.309475Z",
     "shell.execute_reply": "2021-04-10T15:07:54.309958Z"
    },
    "papermill": {
     "duration": 0.107676,
     "end_time": "2021-04-10T15:07:54.310065",
     "exception": false,
     "start_time": "2021-04-10T15:07:54.202389",
     "status": "completed"
    },
    "tags": []
   },
   "outputs": [],
   "source": [
    "# Parameters\n",
    "train_percent = 0.1\n",
    "total_len = len(train)"
   ]
  },
  {
   "cell_type": "code",
   "execution_count": 36,
   "metadata": {
    "execution": {
     "iopub.execute_input": "2021-04-10T15:07:54.518156Z",
     "iopub.status.busy": "2021-04-10T15:07:54.517421Z",
     "iopub.status.idle": "2021-04-10T15:07:54.520298Z",
     "shell.execute_reply": "2021-04-10T15:07:54.519804Z"
    },
    "papermill": {
     "duration": 0.110764,
     "end_time": "2021-04-10T15:07:54.520439",
     "exception": false,
     "start_time": "2021-04-10T15:07:54.409675",
     "status": "completed"
    },
    "tags": []
   },
   "outputs": [],
   "source": [
    "# Split data into train data & feature engineering data (to use for past performance)\n",
    "# Timestamp is in descending order - meaning that the last 10% observations have\n",
    "# the biggest chance of having had some performance recorded before\n",
    "# so looking at the performance in the past we'll try to predict the performance now\n",
    "\n",
    "features_df = train.iloc[ : int(total_len*(1-train_percent))]\n",
    "train_df = train.iloc[int(total_len*(1-train_percent)) : ]"
   ]
  },
  {
   "cell_type": "markdown",
   "metadata": {
    "papermill": {
     "duration": 0.099712,
     "end_time": "2021-04-10T15:07:54.719105",
     "exception": false,
     "start_time": "2021-04-10T15:07:54.619393",
     "status": "completed"
    },
    "tags": []
   },
   "source": [
    "## 1.1 Feature Engineering - Create Data"
   ]
  },
  {
   "cell_type": "code",
   "execution_count": 37,
   "metadata": {
    "execution": {
     "iopub.execute_input": "2021-04-10T15:07:54.924899Z",
     "iopub.status.busy": "2021-04-10T15:07:54.924085Z",
     "iopub.status.idle": "2021-04-10T15:07:59.170178Z",
     "shell.execute_reply": "2021-04-10T15:07:59.170775Z"
    },
    "papermill": {
     "duration": 4.350959,
     "end_time": "2021-04-10T15:07:59.170938",
     "exception": false,
     "start_time": "2021-04-10T15:07:54.819979",
     "status": "completed"
    },
    "tags": []
   },
   "outputs": [
    {
     "name": "stdout",
     "output_type": "stream",
     "text": [
      "CPU times: user 3.57 s, sys: 726 ms, total: 4.3 s\n",
      "Wall time: 4.23 s\n"
     ]
    }
   ],
   "source": [
    "%%time\n",
    "# --- STUDENT ANSWERS ---\n",
    "# Group by student\n",
    "user_answers = features_df[features_df['answered_correctly']!=-1].\\\n",
    "                            groupby('user_id').\\\n",
    "                            agg({'answered_correctly': ['sum', 'mean', 'min', \n",
    "                                                        'max', 'count', 'median', \n",
    "                                                        'std', 'var']}).\\\n",
    "                            reset_index()\n",
    "\n",
    "user_answers.columns = ['user_id', 'user_sum', 'user_mean', 'user_min', 'user_max', \n",
    "                        'user_count', 'user_median', 'user_std', 'user_var']\n",
    "\n",
    "\n",
    "# --- CONTENT ID ANSWERS ---\n",
    "# Group by content\n",
    "content_answers = features_df[features_df['answered_correctly']!=-1].\\\n",
    "                            groupby('content_id').\\\n",
    "                            agg({'answered_correctly': ['sum', 'mean', 'min', \n",
    "                                                        'max', 'count', 'median', \n",
    "                                                        'std', 'var']}).\\\n",
    "                            reset_index()\n",
    "\n",
    "content_answers.columns = ['content_id', 'content_sum', 'content_mean', 'content_min', \n",
    "                           'content_max', 'content_count', 'content_median', 'content_std', \n",
    "                           'content_var']"
   ]
  },
  {
   "cell_type": "markdown",
   "metadata": {
    "papermill": {
     "duration": 0.100542,
     "end_time": "2021-04-10T15:07:59.374618",
     "exception": false,
     "start_time": "2021-04-10T15:07:59.274076",
     "status": "completed"
    },
    "tags": []
   },
   "source": [
    "> Save FE data; we will use it for the `test` set too :)"
   ]
  },
  {
   "cell_type": "code",
   "execution_count": 38,
   "metadata": {
    "execution": {
     "iopub.execute_input": "2021-04-10T15:07:59.580004Z",
     "iopub.status.busy": "2021-04-10T15:07:59.579173Z",
     "iopub.status.idle": "2021-04-10T15:07:59.705251Z",
     "shell.execute_reply": "2021-04-10T15:07:59.704650Z"
    },
    "papermill": {
     "duration": 0.230828,
     "end_time": "2021-04-10T15:07:59.705377",
     "exception": false,
     "start_time": "2021-04-10T15:07:59.474549",
     "status": "completed"
    },
    "tags": []
   },
   "outputs": [],
   "source": [
    "user_answers.to_parquet('user_answers.parquet')\n",
    "content_answers.to_parquet('content_answers.parquet')"
   ]
  },
  {
   "cell_type": "code",
   "execution_count": 39,
   "metadata": {
    "execution": {
     "iopub.execute_input": "2021-04-10T15:08:00.066895Z",
     "iopub.status.busy": "2021-04-10T15:08:00.065627Z",
     "iopub.status.idle": "2021-04-10T15:08:00.073244Z",
     "shell.execute_reply": "2021-04-10T15:08:00.072709Z"
    },
    "papermill": {
     "duration": 0.264652,
     "end_time": "2021-04-10T15:08:00.073391",
     "exception": false,
     "start_time": "2021-04-10T15:07:59.808739",
     "status": "completed"
    },
    "tags": []
   },
   "outputs": [
    {
     "data": {
      "text/plain": [
       "64"
      ]
     },
     "execution_count": 39,
     "metadata": {},
     "output_type": "execute_result"
    }
   ],
   "source": [
    "del train, questions\n",
    "gc.collect()"
   ]
  },
  {
   "cell_type": "markdown",
   "metadata": {
    "papermill": {
     "duration": 0.101976,
     "end_time": "2021-04-10T15:08:00.277163",
     "exception": false,
     "start_time": "2021-04-10T15:08:00.175187",
     "status": "completed"
    },
    "tags": []
   },
   "source": [
    "## 1.2 Predefined Functions for Preprocesing¶\n",
    "\n",
    "> Combine new features with the `train_df`"
   ]
  },
  {
   "cell_type": "code",
   "execution_count": 40,
   "metadata": {
    "execution": {
     "iopub.execute_input": "2021-04-10T15:08:00.483336Z",
     "iopub.status.busy": "2021-04-10T15:08:00.482063Z",
     "iopub.status.idle": "2021-04-10T15:08:00.485161Z",
     "shell.execute_reply": "2021-04-10T15:08:00.484709Z"
    },
    "papermill": {
     "duration": 0.108125,
     "end_time": "2021-04-10T15:08:00.485255",
     "exception": false,
     "start_time": "2021-04-10T15:08:00.377130",
     "status": "completed"
    },
    "tags": []
   },
   "outputs": [],
   "source": [
    "from sklearn.preprocessing import StandardScaler"
   ]
  },
  {
   "cell_type": "code",
   "execution_count": 41,
   "metadata": {
    "execution": {
     "iopub.execute_input": "2021-04-10T15:08:00.701276Z",
     "iopub.status.busy": "2021-04-10T15:08:00.700456Z",
     "iopub.status.idle": "2021-04-10T15:08:00.703320Z",
     "shell.execute_reply": "2021-04-10T15:08:00.702878Z"
    },
    "papermill": {
     "duration": 0.116825,
     "end_time": "2021-04-10T15:08:00.703413",
     "exception": false,
     "start_time": "2021-04-10T15:08:00.586588",
     "status": "completed"
    },
    "tags": []
   },
   "outputs": [],
   "source": [
    "# Features for ML\n",
    "features_to_keep = ['user_sum', 'user_mean', 'user_min', 'user_max', \n",
    "                        'user_count', 'user_median', 'user_std', 'user_var',\n",
    "                   'content_sum', 'content_mean', 'content_min', \n",
    "                           'content_max', 'content_count', 'content_median', 'content_std', \n",
    "                           'content_var']\n",
    "target = 'answered_correctly'\n",
    "\n",
    "all_features = features_to_keep.copy()\n",
    "all_features.append(target)\n",
    "\n",
    "\n",
    "# We need to convert True-False variables to integers\n",
    "def to_bool(x):\n",
    "    '''For the string variables.'''\n",
    "    if x == False:\n",
    "        return 0\n",
    "    else:\n",
    "        return 1\n",
    "\n",
    "    \n",
    "def combine_features(data = None):\n",
    "    '''Combine the features with the Train/Test data.'''\n",
    "    \n",
    "    # Add \"past\" information\n",
    "    features_data = data.merge(user_answers, how = 'left', on = 'user_id')\n",
    "    features_data = features_data.merge(content_answers, how = 'left', on = 'content_id')\n",
    "\n",
    "    # Apply\n",
    "    features_data['content_type_id'] = features_data['content_type_id'].applymap(to_bool)\n",
    "    features_data['prior_question_had_explanation'] = features_data['prior_question_had_explanation'].applymap(to_bool)\n",
    "\n",
    "    # Fill in missing spots\n",
    "    features_data.fillna(value = -1, inplace = True)\n",
    "    \n",
    "    return features_data\n",
    "\n",
    "\n",
    "# Scaling the data did not perform as I expected to - so for now we will exclude it\n",
    "def scale_data(features_data=None, train=True, features_to_keep=None, target=None):\n",
    "    '''Scales the provided data - if the data is for training, excludes the target column.\n",
    "    It also chooses the features used in the prediction.'''\n",
    "    \n",
    "    data_for_standardization = features_data[features_to_keep]\n",
    "    matrix = data_for_standardization.as_matrix()\n",
    "    scaled_matrix = StandardScaler().fit_transform(matrix)\n",
    "    \n",
    "    scaled_data = cudf.DataFrame(scaled_matrix)\n",
    "    scaled_data.columns = data_for_standardization.columns\n",
    "    \n",
    "    # We don't want to scale the target also\n",
    "    if train:\n",
    "        scaled_data[target] = features_data[target]\n",
    "        \n",
    "    return scaled_data"
   ]
  },
  {
   "cell_type": "markdown",
   "metadata": {
    "papermill": {
     "duration": 0.101908,
     "end_time": "2021-04-10T15:08:00.908445",
     "exception": false,
     "start_time": "2021-04-10T15:08:00.806537",
     "status": "completed"
    },
    "tags": []
   },
   "source": [
    "## 1.3 Apply Functions - getting data ready"
   ]
  },
  {
   "cell_type": "code",
   "execution_count": 42,
   "metadata": {
    "execution": {
     "iopub.execute_input": "2021-04-10T15:08:01.133442Z",
     "iopub.status.busy": "2021-04-10T15:08:01.132599Z",
     "iopub.status.idle": "2021-04-10T15:08:08.655765Z",
     "shell.execute_reply": "2021-04-10T15:08:08.656498Z"
    },
    "papermill": {
     "duration": 7.645784,
     "end_time": "2021-04-10T15:08:08.656630",
     "exception": false,
     "start_time": "2021-04-10T15:08:01.010846",
     "status": "completed"
    },
    "tags": []
   },
   "outputs": [
    {
     "name": "stdout",
     "output_type": "stream",
     "text": [
      "Observations in train: 9,927,071\n",
      "CPU times: user 7.4 s, sys: 242 ms, total: 7.64 s\n",
      "Wall time: 7.47 s\n"
     ]
    },
    {
     "data": {
      "text/html": [
       "<div>\n",
       "<style scoped>\n",
       "    .dataframe tbody tr th:only-of-type {\n",
       "        vertical-align: middle;\n",
       "    }\n",
       "\n",
       "    .dataframe tbody tr th {\n",
       "        vertical-align: top;\n",
       "    }\n",
       "\n",
       "    .dataframe thead th {\n",
       "        text-align: right;\n",
       "    }\n",
       "</style>\n",
       "<table border=\"1\" class=\"dataframe\">\n",
       "  <thead>\n",
       "    <tr style=\"text-align: right;\">\n",
       "      <th></th>\n",
       "      <th>user_sum</th>\n",
       "      <th>user_mean</th>\n",
       "      <th>user_min</th>\n",
       "      <th>user_max</th>\n",
       "      <th>user_count</th>\n",
       "      <th>user_median</th>\n",
       "      <th>user_std</th>\n",
       "      <th>user_var</th>\n",
       "      <th>content_sum</th>\n",
       "      <th>content_mean</th>\n",
       "      <th>content_min</th>\n",
       "      <th>content_max</th>\n",
       "      <th>content_count</th>\n",
       "      <th>content_median</th>\n",
       "      <th>content_std</th>\n",
       "      <th>content_var</th>\n",
       "      <th>answered_correctly</th>\n",
       "    </tr>\n",
       "  </thead>\n",
       "  <tbody>\n",
       "    <tr>\n",
       "      <th>0</th>\n",
       "      <td>-1</td>\n",
       "      <td>-1.0</td>\n",
       "      <td>-1</td>\n",
       "      <td>-1</td>\n",
       "      <td>-1</td>\n",
       "      <td>-1.0</td>\n",
       "      <td>-1.0</td>\n",
       "      <td>-1.0</td>\n",
       "      <td>2452</td>\n",
       "      <td>0.724800</td>\n",
       "      <td>0</td>\n",
       "      <td>1</td>\n",
       "      <td>3383</td>\n",
       "      <td>1.0</td>\n",
       "      <td>0.446681</td>\n",
       "      <td>0.199524</td>\n",
       "      <td>1</td>\n",
       "    </tr>\n",
       "    <tr>\n",
       "      <th>1</th>\n",
       "      <td>-1</td>\n",
       "      <td>-1.0</td>\n",
       "      <td>-1</td>\n",
       "      <td>-1</td>\n",
       "      <td>-1</td>\n",
       "      <td>-1.0</td>\n",
       "      <td>-1.0</td>\n",
       "      <td>-1.0</td>\n",
       "      <td>12123</td>\n",
       "      <td>0.647320</td>\n",
       "      <td>0</td>\n",
       "      <td>1</td>\n",
       "      <td>18728</td>\n",
       "      <td>1.0</td>\n",
       "      <td>0.477817</td>\n",
       "      <td>0.228309</td>\n",
       "      <td>0</td>\n",
       "    </tr>\n",
       "    <tr>\n",
       "      <th>2</th>\n",
       "      <td>-1</td>\n",
       "      <td>-1.0</td>\n",
       "      <td>-1</td>\n",
       "      <td>-1</td>\n",
       "      <td>-1</td>\n",
       "      <td>-1.0</td>\n",
       "      <td>-1.0</td>\n",
       "      <td>-1.0</td>\n",
       "      <td>8458</td>\n",
       "      <td>0.542423</td>\n",
       "      <td>0</td>\n",
       "      <td>1</td>\n",
       "      <td>15593</td>\n",
       "      <td>1.0</td>\n",
       "      <td>0.498213</td>\n",
       "      <td>0.248216</td>\n",
       "      <td>1</td>\n",
       "    </tr>\n",
       "    <tr>\n",
       "      <th>3</th>\n",
       "      <td>-1</td>\n",
       "      <td>-1.0</td>\n",
       "      <td>-1</td>\n",
       "      <td>-1</td>\n",
       "      <td>-1</td>\n",
       "      <td>-1.0</td>\n",
       "      <td>-1.0</td>\n",
       "      <td>-1.0</td>\n",
       "      <td>13461</td>\n",
       "      <td>0.651707</td>\n",
       "      <td>0</td>\n",
       "      <td>1</td>\n",
       "      <td>20655</td>\n",
       "      <td>1.0</td>\n",
       "      <td>0.476441</td>\n",
       "      <td>0.226996</td>\n",
       "      <td>0</td>\n",
       "    </tr>\n",
       "    <tr>\n",
       "      <th>4</th>\n",
       "      <td>-1</td>\n",
       "      <td>-1.0</td>\n",
       "      <td>-1</td>\n",
       "      <td>-1</td>\n",
       "      <td>-1</td>\n",
       "      <td>-1.0</td>\n",
       "      <td>-1.0</td>\n",
       "      <td>-1.0</td>\n",
       "      <td>11492</td>\n",
       "      <td>0.743626</td>\n",
       "      <td>0</td>\n",
       "      <td>1</td>\n",
       "      <td>15454</td>\n",
       "      <td>1.0</td>\n",
       "      <td>0.436645</td>\n",
       "      <td>0.190659</td>\n",
       "      <td>1</td>\n",
       "    </tr>\n",
       "  </tbody>\n",
       "</table>\n",
       "</div>"
      ],
      "text/plain": [
       "   user_sum  user_mean  user_min  user_max  user_count  user_median  user_std  \\\n",
       "0        -1       -1.0        -1        -1          -1         -1.0      -1.0   \n",
       "1        -1       -1.0        -1        -1          -1         -1.0      -1.0   \n",
       "2        -1       -1.0        -1        -1          -1         -1.0      -1.0   \n",
       "3        -1       -1.0        -1        -1          -1         -1.0      -1.0   \n",
       "4        -1       -1.0        -1        -1          -1         -1.0      -1.0   \n",
       "\n",
       "   user_var  content_sum  content_mean  content_min  content_max  \\\n",
       "0      -1.0         2452      0.724800            0            1   \n",
       "1      -1.0        12123      0.647320            0            1   \n",
       "2      -1.0         8458      0.542423            0            1   \n",
       "3      -1.0        13461      0.651707            0            1   \n",
       "4      -1.0        11492      0.743626            0            1   \n",
       "\n",
       "   content_count  content_median  content_std  content_var  answered_correctly  \n",
       "0           3383             1.0     0.446681     0.199524                   1  \n",
       "1          18728             1.0     0.477817     0.228309                   0  \n",
       "2          15593             1.0     0.498213     0.248216                   1  \n",
       "3          20655             1.0     0.476441     0.226996                   0  \n",
       "4          15454             1.0     0.436645     0.190659                   1  "
      ]
     },
     "execution_count": 42,
     "metadata": {},
     "output_type": "execute_result"
    }
   ],
   "source": [
    "%%time\n",
    "\n",
    "train_df = combine_features(data=train_df)\n",
    "# train_df = scale_data(features_data=train_df, train=True, features_to_keep=features_to_keep, target=target)\n",
    "\n",
    "# Comment this if you're scaling\n",
    "train_df = train_df[all_features]\n",
    "\n",
    "print(\"Observations in train: {:,}\".format(len(train_df)))\n",
    "train_df.head()"
   ]
  },
  {
   "cell_type": "markdown",
   "metadata": {
    "papermill": {
     "duration": 0.106502,
     "end_time": "2021-04-10T15:08:08.870619",
     "exception": false,
     "start_time": "2021-04-10T15:08:08.764117",
     "status": "completed"
    },
    "tags": []
   },
   "source": [
    "# 2. XGBoost Model\n",
    "\n",
    "> The [Stratified K Fold](https://nbviewer.jupyter.org/github/daxiongshu/notebooks-extended/blob/kdd_plasticc/competition_notebooks/kaggle/landmark/cudf_stratifiedKfold_1000x_speedup.ipynb) function using `cudf` is from Grandmaster [Jiwei Liu](https://www.kaggle.com/jiweiliu)"
   ]
  },
  {
   "cell_type": "code",
   "execution_count": 43,
   "metadata": {
    "execution": {
     "iopub.execute_input": "2021-04-10T15:08:09.096723Z",
     "iopub.status.busy": "2021-04-10T15:08:09.095850Z",
     "iopub.status.idle": "2021-04-10T15:08:09.180548Z",
     "shell.execute_reply": "2021-04-10T15:08:09.179565Z"
    },
    "papermill": {
     "duration": 0.204932,
     "end_time": "2021-04-10T15:08:09.180657",
     "exception": false,
     "start_time": "2021-04-10T15:08:08.975725",
     "status": "completed"
    },
    "tags": []
   },
   "outputs": [],
   "source": [
    "# RAPIDS roc_auc_score is 16x faster than sklearn. - cdeotte\n",
    "from cuml.metrics import roc_auc_score\n",
    "from cuml.preprocessing.model_selection import train_test_split\n",
    "import xgboost\n",
    "import pickle"
   ]
  },
  {
   "cell_type": "code",
   "execution_count": 44,
   "metadata": {
    "execution": {
     "iopub.execute_input": "2021-04-10T15:08:09.395396Z",
     "iopub.status.busy": "2021-04-10T15:08:09.394373Z",
     "iopub.status.idle": "2021-04-10T15:08:09.406046Z",
     "shell.execute_reply": "2021-04-10T15:08:09.406575Z"
    },
    "papermill": {
     "duration": 0.121106,
     "end_time": "2021-04-10T15:08:09.406687",
     "exception": false,
     "start_time": "2021-04-10T15:08:09.285581",
     "status": "completed"
    },
    "tags": []
   },
   "outputs": [],
   "source": [
    "# Features, target and train/test split\n",
    "X = train_df[features_to_keep]\n",
    "y = train_df[target]\n",
    "\n",
    "X_train, X_test, y_train, y_test = train_test_split(X, y, test_size=0.3, \n",
    "                                                    shuffle=False, stratify=y)"
   ]
  },
  {
   "cell_type": "markdown",
   "metadata": {
    "papermill": {
     "duration": 0.103109,
     "end_time": "2021-04-10T15:08:09.612685",
     "exception": false,
     "start_time": "2021-04-10T15:08:09.509576",
     "status": "completed"
    },
    "tags": []
   },
   "source": [
    "## 2.1 Baseline Model\n",
    "\n",
    "### Helper Function that runs multiple models"
   ]
  },
  {
   "cell_type": "code",
   "execution_count": 45,
   "metadata": {
    "execution": {
     "iopub.execute_input": "2021-04-10T15:08:09.836138Z",
     "iopub.status.busy": "2021-04-10T15:08:09.834180Z",
     "iopub.status.idle": "2021-04-10T15:08:09.836765Z",
     "shell.execute_reply": "2021-04-10T15:08:09.837185Z"
    },
    "papermill": {
     "duration": 0.120398,
     "end_time": "2021-04-10T15:08:09.837300",
     "exception": false,
     "start_time": "2021-04-10T15:08:09.716902",
     "status": "completed"
    },
    "tags": []
   },
   "outputs": [],
   "source": [
    "def train_xgb_model(X_train, X_test, y_train, y_test, params, details=\"default\", prints=True):\n",
    "    '''Trains an XGB and returns the trained model + ROC value.'''\n",
    "    # Create DMatrix - is optimized for both memory efficiency and training speed.\n",
    "    train_matrix = xgboost.DMatrix(data = X_train, label = y_train)\n",
    "    \n",
    "    # Create & Train the model\n",
    "    model = xgboost.train(params, dtrain = train_matrix)\n",
    "\n",
    "    # Make prediction\n",
    "    predicts = model.predict(xgboost.DMatrix(X_test))\n",
    "    roc = roc_auc_score(y_test.astype('int32'), predicts)\n",
    "\n",
    "    if prints:\n",
    "        print(details + \" - ROC: {:.5}\".format(roc))\n",
    "    \n",
    "    return model, roc\n",
    "\n",
    "\n",
    "def param_tuning_graph(param_values, roc_values):\n",
    "    '''Represents visually the ROC results for the speciffic parameter tune.'''\n",
    "    \n",
    "    plt.figure(figsize=(18, 3))\n",
    "    ax = sns.barplot(x=param_values, y=roc_values, palette=custom_colors)\n",
    "\n",
    "    for p in ax.patches:\n",
    "        width = p.get_width()\n",
    "        height = p.get_height()\n",
    "        x, y = p.get_xy() \n",
    "        ax.annotate(f'{height:.5%}', (x + width/2, y + height*1.02), ha='center')"
   ]
  },
  {
   "cell_type": "code",
   "execution_count": 46,
   "metadata": {
    "execution": {
     "iopub.execute_input": "2021-04-10T15:08:10.051025Z",
     "iopub.status.busy": "2021-04-10T15:08:10.050476Z",
     "iopub.status.idle": "2021-04-10T15:08:18.591190Z",
     "shell.execute_reply": "2021-04-10T15:08:18.590725Z"
    },
    "papermill": {
     "duration": 8.650327,
     "end_time": "2021-04-10T15:08:18.591298",
     "exception": false,
     "start_time": "2021-04-10T15:08:09.940971",
     "status": "completed"
    },
    "tags": []
   },
   "outputs": [
    {
     "name": "stdout",
     "output_type": "stream",
     "text": [
      "baseline model - ROC: 0.71624\n",
      "CPU times: user 7.06 s, sys: 843 ms, total: 7.9 s\n",
      "Wall time: 8.53 s\n"
     ]
    }
   ],
   "source": [
    "%%time\n",
    "\n",
    "params1 = {\n",
    "    'max_depth' : 4,\n",
    "    'max_leaves' : 2**4,\n",
    "    'tree_method' : 'gpu_hist',\n",
    "    'objective' : 'reg:logistic',\n",
    "    'grow_policy' : 'lossguide'\n",
    "}\n",
    "\n",
    "model1, roc1 = train_xgb_model(X_train, X_test, y_train, y_test, \n",
    "                               params1, details=\"baseline model\")"
   ]
  },
  {
   "cell_type": "markdown",
   "metadata": {
    "papermill": {
     "duration": 0.106902,
     "end_time": "2021-04-10T15:08:18.812372",
     "exception": false,
     "start_time": "2021-04-10T15:08:18.705470",
     "status": "completed"
    },
    "tags": []
   },
   "source": [
    "<div class=\"alert alert-block alert-info\">\n",
    "<p><b>We have a ROC score of 0.71623 in ~14 seconds.</b></p>\n",
    "<p>Incredible.</p>\n",
    "</div>"
   ]
  },
  {
   "cell_type": "code",
   "execution_count": 47,
   "metadata": {
    "execution": {
     "iopub.execute_input": "2021-04-10T15:08:19.046119Z",
     "iopub.status.busy": "2021-04-10T15:08:19.045249Z",
     "iopub.status.idle": "2021-04-10T15:08:19.052564Z",
     "shell.execute_reply": "2021-04-10T15:08:19.051937Z"
    },
    "papermill": {
     "duration": 0.125515,
     "end_time": "2021-04-10T15:08:19.052678",
     "exception": false,
     "start_time": "2021-04-10T15:08:18.927163",
     "status": "completed"
    },
    "tags": []
   },
   "outputs": [],
   "source": [
    "# save model to file\n",
    "pickle.dump(model1, open(\"xgb_baseline.pickle.dat\", \"wb\"))"
   ]
  },
  {
   "cell_type": "markdown",
   "metadata": {
    "papermill": {
     "duration": 0.10727,
     "end_time": "2021-04-10T15:08:19.266881",
     "exception": false,
     "start_time": "2021-04-10T15:08:19.159611",
     "status": "completed"
    },
    "tags": []
   },
   "source": [
    "## 2.2 Fine Tuning\n",
    "\n",
    "> Let's see if we can improve the ROC by only tuning the hyperparameters."
   ]
  },
  {
   "cell_type": "code",
   "execution_count": 48,
   "metadata": {
    "execution": {
     "iopub.execute_input": "2021-04-10T15:08:19.486306Z",
     "iopub.status.busy": "2021-04-10T15:08:19.485377Z",
     "iopub.status.idle": "2021-04-10T15:08:41.375106Z",
     "shell.execute_reply": "2021-04-10T15:08:41.374385Z"
    },
    "papermill": {
     "duration": 22.00326,
     "end_time": "2021-04-10T15:08:41.375243",
     "exception": false,
     "start_time": "2021-04-10T15:08:19.371983",
     "status": "completed"
    },
    "tags": []
   },
   "outputs": [
    {
     "name": "stdout",
     "output_type": "stream",
     "text": [
      "ETA: 0.001 - ROC: 0.71514\n",
      "ETA: 0.005 - ROC: 0.71534\n",
      "ETA: 0.01 - ROC: 0.71564\n",
      "ETA: 0.1 - ROC: 0.71623\n",
      "ETA: 0.2 - ROC: 0.71624\n",
      "ETA: 0.3 - ROC: 0.71624\n",
      "ETA: 0.4 - ROC: 0.71622\n",
      "ETA: 0.5 - ROC: 0.71619\n",
      "ETA: 0.6 - ROC: 0.71617\n",
      "CPU times: user 16.4 s, sys: 5.83 s, total: 22.2 s\n",
      "Wall time: 21.9 s\n"
     ]
    }
   ],
   "source": [
    "%%time\n",
    "\n",
    "# --- ETA ---\n",
    "# aka learning rate\n",
    "\n",
    "rocs2 = []\n",
    "etas2 = [0.001, 0.005, 0.01, 0.1, 0.2, 0.3, 0.4, 0.5, 0.6]\n",
    "\n",
    "for eta in etas2:\n",
    "    params2 = {\n",
    "        'max_depth' : 4,\n",
    "        'max_leaves' : 2**4,\n",
    "        'tree_method' : 'gpu_hist',\n",
    "        'objective' : 'reg:logistic',\n",
    "        'grow_policy' : 'lossguide',\n",
    "        'eta' : eta\n",
    "    }\n",
    "    \n",
    "    _, roc = train_xgb_model(X_train, X_test, y_train, y_test, \n",
    "                             params2, details = f\"ETA: {eta}\")\n",
    "    rocs2.append(roc)\n",
    "    \n",
    "    \n",
    "# Optional: Further tunning\n",
    "max_depths = [4, 5, 6, 7, 8]"
   ]
  },
  {
   "cell_type": "code",
   "execution_count": 49,
   "metadata": {
    "execution": {
     "iopub.execute_input": "2021-04-10T15:08:41.603067Z",
     "iopub.status.busy": "2021-04-10T15:08:41.602324Z",
     "iopub.status.idle": "2021-04-10T15:08:41.605431Z",
     "shell.execute_reply": "2021-04-10T15:08:41.604928Z"
    },
    "papermill": {
     "duration": 0.117684,
     "end_time": "2021-04-10T15:08:41.605528",
     "exception": false,
     "start_time": "2021-04-10T15:08:41.487844",
     "status": "completed"
    },
    "tags": []
   },
   "outputs": [],
   "source": [
    "# # --- SAVE CHECKPOINT ---\n",
    "# params_final = {\n",
    "#     'max_depth' : 8,\n",
    "#     'max_leaves' : 2**4,\n",
    "#     'tree_method' : 'gpu_hist',\n",
    "#     'objective' : 'reg:logistic',\n",
    "#     'grow_policy' : 'lossguide',\n",
    "#     'eta' : 0.5\n",
    "# }\n",
    "\n",
    "# model2, roc2 = train_xgb_model(X_train, X_test, y_train, y_test, \n",
    "#                                params_final, prints=None)\n",
    "\n",
    "# # save model to file\n",
    "# pickle.dump(model2, open(\"baseline_model_tuned.pickle.dat\", \"wb\"))"
   ]
  },
  {
   "cell_type": "markdown",
   "metadata": {
    "papermill": {
     "duration": 0.114235,
     "end_time": "2021-04-10T15:08:41.832206",
     "exception": false,
     "start_time": "2021-04-10T15:08:41.717971",
     "status": "completed"
    },
    "tags": []
   },
   "source": [
    "## 2.4 Feature Importance"
   ]
  },
  {
   "cell_type": "code",
   "execution_count": 50,
   "metadata": {
    "execution": {
     "iopub.execute_input": "2021-04-10T15:08:42.059808Z",
     "iopub.status.busy": "2021-04-10T15:08:42.059215Z",
     "iopub.status.idle": "2021-04-10T15:08:44.740347Z",
     "shell.execute_reply": "2021-04-10T15:08:44.741564Z"
    },
    "papermill": {
     "duration": 2.797923,
     "end_time": "2021-04-10T15:08:44.741748",
     "exception": false,
     "start_time": "2021-04-10T15:08:41.943825",
     "status": "completed"
    },
    "tags": []
   },
   "outputs": [],
   "source": [
    "import shap\n",
    "\n",
    "explainer = shap.TreeExplainer(model1)\n",
    "shap_values = explainer.shap_values(X_test.to_pandas())"
   ]
  },
  {
   "cell_type": "code",
   "execution_count": 51,
   "metadata": {
    "execution": {
     "iopub.execute_input": "2021-04-10T15:08:45.106408Z",
     "iopub.status.busy": "2021-04-10T15:08:45.105564Z",
     "iopub.status.idle": "2021-04-10T15:08:46.309169Z",
     "shell.execute_reply": "2021-04-10T15:08:46.310537Z"
    },
    "papermill": {
     "duration": 1.392742,
     "end_time": "2021-04-10T15:08:46.310736",
     "exception": false,
     "start_time": "2021-04-10T15:08:44.917994",
     "status": "completed"
    },
    "tags": []
   },
   "outputs": [
    {
     "data": {
      "image/png": "[encoded data removed]",
      "text/plain": [
       "<Figure size 576x568.8 with 1 Axes>"
      ]
     },
     "metadata": {},
     "output_type": "display_data"
    }
   ],
   "source": [
    "shap.summary_plot(shap_values, X_test.to_pandas(), plot_type=\"bar\", color=custom_colors[3],\n",
    "                  title = \"\")"
   ]
  },
  {
   "cell_type": "markdown",
   "metadata": {
    "papermill": {
     "duration": 0.166458,
     "end_time": "2021-04-10T15:08:46.682450",
     "exception": false,
     "start_time": "2021-04-10T15:08:46.515992",
     "status": "completed"
    },
    "tags": []
   },
   "source": [
    "# 3. LightGBM Model\n",
    "\n",
    "<div class=\"alert alert-block alert-warning\">\n",
    "<p><b>If you know any resource that shows how you can use a GPU dataframe to work with Stratified Folding and LGBM please comment :) I've been struggling to find some good tutorials and this is the best I could do so far.</b></p>\n",
    "</div>"
   ]
  },
  {
   "cell_type": "code",
   "execution_count": 52,
   "metadata": {
    "execution": {
     "iopub.execute_input": "2021-04-10T15:08:46.920038Z",
     "iopub.status.busy": "2021-04-10T15:08:46.919371Z",
     "iopub.status.idle": "2021-04-10T15:08:46.959369Z",
     "shell.execute_reply": "2021-04-10T15:08:46.958908Z"
    },
    "papermill": {
     "duration": 0.158467,
     "end_time": "2021-04-10T15:08:46.959484",
     "exception": false,
     "start_time": "2021-04-10T15:08:46.801017",
     "status": "completed"
    },
    "tags": []
   },
   "outputs": [],
   "source": [
    "from sklearn.model_selection import StratifiedKFold, train_test_split\n",
    "from sklearn import metrics\n",
    "import lightgbm as lgbm\n",
    "from sklearn import metrics\n",
    "import gc\n",
    "import pickle"
   ]
  },
  {
   "cell_type": "code",
   "execution_count": 53,
   "metadata": {
    "execution": {
     "iopub.execute_input": "2021-04-10T15:08:47.198362Z",
     "iopub.status.busy": "2021-04-10T15:08:47.197458Z",
     "iopub.status.idle": "2021-04-10T15:08:49.047675Z",
     "shell.execute_reply": "2021-04-10T15:08:49.046653Z"
    },
    "papermill": {
     "duration": 1.969948,
     "end_time": "2021-04-10T15:08:49.047789",
     "exception": false,
     "start_time": "2021-04-10T15:08:47.077841",
     "status": "completed"
    },
    "tags": []
   },
   "outputs": [],
   "source": [
    "# We'll do a train | validation | test situation\n",
    "train, test = train_test_split(train_df, test_size=0.3, shuffle=False)\n",
    "\n",
    "train = train.to_pandas()\n",
    "test = test.to_pandas()"
   ]
  },
  {
   "cell_type": "code",
   "execution_count": 54,
   "metadata": {
    "execution": {
     "iopub.execute_input": "2021-04-10T15:08:49.286666Z",
     "iopub.status.busy": "2021-04-10T15:08:49.285224Z",
     "iopub.status.idle": "2021-04-10T15:08:49.744612Z",
     "shell.execute_reply": "2021-04-10T15:08:49.745820Z"
    },
    "papermill": {
     "duration": 0.582164,
     "end_time": "2021-04-10T15:08:49.745963",
     "exception": false,
     "start_time": "2021-04-10T15:08:49.163799",
     "status": "completed"
    },
    "tags": []
   },
   "outputs": [],
   "source": [
    "# -----------\n",
    "n_splits = 2\n",
    "# -----------\n",
    "\n",
    "skf = StratifiedKFold(n_splits=n_splits, shuffle=True)\n",
    "\n",
    "oof = np.zeros(len(train))\n",
    "predictions = np.zeros(len(test))\n",
    "\n",
    "# Covertion to CPU data\n",
    "skf_split = skf.split(X=train[features_to_keep], y=cupy.asnumpy(train[target].values))"
   ]
  },
  {
   "cell_type": "code",
   "execution_count": 55,
   "metadata": {
    "execution": {
     "iopub.execute_input": "2021-04-10T15:08:49.982171Z",
     "iopub.status.busy": "2021-04-10T15:08:49.980288Z",
     "iopub.status.idle": "2021-04-10T15:08:49.982803Z",
     "shell.execute_reply": "2021-04-10T15:08:49.983241Z"
    },
    "papermill": {
     "duration": 0.123343,
     "end_time": "2021-04-10T15:08:49.983356",
     "exception": false,
     "start_time": "2021-04-10T15:08:49.860013",
     "status": "completed"
    },
    "tags": []
   },
   "outputs": [],
   "source": [
    "param = {\n",
    "        'num_leaves': 80,\n",
    "        'max_bin': 250,\n",
    "        'min_data_in_leaf': 11,\n",
    "        'learning_rate': 0.01,\n",
    "        'min_sum_hessian_in_leaf': 0.00245,\n",
    "        'bagging_fraction': 1.0, \n",
    "        'bagging_freq': 5, \n",
    "        'feature_fraction': 0.05,\n",
    "        'lambda_l1': 4.972,\n",
    "        'lambda_l2': 2.276,\n",
    "        'min_gain_to_split': 0.65,\n",
    "        'max_depth': 14,\n",
    "        'save_binary': True,\n",
    "        'seed': 1337,\n",
    "        'feature_fraction_seed': 1337,\n",
    "        'bagging_seed': 1337,\n",
    "        'drop_seed': 1337,\n",
    "        'data_random_seed': 1337,\n",
    "        'objective': 'binary',\n",
    "        'boosting_type': 'gbdt',\n",
    "        'verbose': 1,\n",
    "        'metric': 'auc',\n",
    "        'is_unbalance': True,\n",
    "        'boost_from_average': False,\n",
    "        'device': 'gpu',\n",
    "        'gpu_platform_id': 0,\n",
    "        'gpu_device_id': 0\n",
    "    }"
   ]
  },
  {
   "cell_type": "code",
   "execution_count": 56,
   "metadata": {
    "execution": {
     "iopub.execute_input": "2021-04-10T15:08:50.217817Z",
     "iopub.status.busy": "2021-04-10T15:08:50.216923Z",
     "iopub.status.idle": "2021-04-10T15:12:21.801330Z",
     "shell.execute_reply": "2021-04-10T15:12:21.801917Z"
    },
    "papermill": {
     "duration": 211.706024,
     "end_time": "2021-04-10T15:12:21.802069",
     "exception": false,
     "start_time": "2021-04-10T15:08:50.096045",
     "status": "completed"
    },
    "tags": []
   },
   "outputs": [
    {
     "name": "stdout",
     "output_type": "stream",
     "text": [
      "==== Fold 1 ====\n",
      "Training until validation scores don't improve for 12 rounds\n",
      "[25]\tvalid_0's auc: 0.710773\n",
      "[50]\tvalid_0's auc: 0.711472\n",
      "[75]\tvalid_0's auc: 0.711829\n",
      "[100]\tvalid_0's auc: 0.712038\n",
      "Did not meet early stopping. Best iteration is:\n",
      "[96]\tvalid_0's auc: 0.712232\n",
      "==== Fold 2 ====\n",
      "Training until validation scores don't improve for 12 rounds\n",
      "[25]\tvalid_0's auc: 0.710829\n",
      "[50]\tvalid_0's auc: 0.711518\n",
      "[75]\tvalid_0's auc: 0.711841\n",
      "[100]\tvalid_0's auc: 0.712117\n",
      "Did not meet early stopping. Best iteration is:\n",
      "[96]\tvalid_0's auc: 0.7123\n",
      "CPU times: user 6min 11s, sys: 10.9 s, total: 6min 22s\n",
      "Wall time: 3min 31s\n"
     ]
    }
   ],
   "source": [
    "%%time\n",
    "\n",
    "# Training Loop\n",
    "counter = 1\n",
    "\n",
    "for train_index, valid_index in skf_split:\n",
    "    print(\"==== Fold {} ====\".format(counter))\n",
    "    \n",
    "    lgbm_train = lgbm.Dataset(data = train.iloc[train_index, :][features_to_keep].values,\n",
    "                              label = train.iloc[train_index, :][target].values,\n",
    "                              feature_name = features_to_keep,\n",
    "                              free_raw_data = False)\n",
    "    \n",
    "    lgbm_valid = lgbm.Dataset(data = train.iloc[valid_index, :][features_to_keep].values,\n",
    "                              label = train.iloc[valid_index, :][target].values,\n",
    "                              feature_name = features_to_keep,\n",
    "                              free_raw_data = False)\n",
    "    \n",
    "    lgbm_2 = lgbm.train(params = param, train_set = lgbm_train, valid_sets = [lgbm_valid],\n",
    "                        early_stopping_rounds = 12, num_boost_round=100, verbose_eval=25)\n",
    "    \n",
    "    \n",
    "    # X_valid to predict\n",
    "    oof[valid_index] = lgbm_2.predict(train.iloc[valid_index][features_to_keep].values, \n",
    "                                      num_iteration = lgbm_2.best_iteration)\n",
    "    predictions += lgbm_2.predict(test[features_to_keep], \n",
    "                                  num_iteration = lgbm_2.best_iteration) / n_splits\n",
    "    \n",
    "    counter += 1"
   ]
  },
  {
   "cell_type": "code",
   "execution_count": 57,
   "metadata": {
    "execution": {
     "iopub.execute_input": "2021-04-10T15:12:22.058238Z",
     "iopub.status.busy": "2021-04-10T15:12:22.057443Z",
     "iopub.status.idle": "2021-04-10T15:12:23.075647Z",
     "shell.execute_reply": "2021-04-10T15:12:23.074835Z"
    },
    "papermill": {
     "duration": 1.148244,
     "end_time": "2021-04-10T15:12:23.075769",
     "exception": false,
     "start_time": "2021-04-10T15:12:21.927525",
     "status": "completed"
    },
    "tags": []
   },
   "outputs": [
    {
     "name": "stdout",
     "output_type": "stream",
     "text": [
      "CV ROC: 0.71\n"
     ]
    }
   ],
   "source": [
    "print(\"CV ROC: {:<0.2f}\".format(metrics.roc_auc_score(test[target], predictions)))"
   ]
  },
  {
   "cell_type": "code",
   "execution_count": 58,
   "metadata": {
    "execution": {
     "iopub.execute_input": "2021-04-10T15:12:23.332960Z",
     "iopub.status.busy": "2021-04-10T15:12:23.332071Z",
     "iopub.status.idle": "2021-04-10T15:12:23.334162Z",
     "shell.execute_reply": "2021-04-10T15:12:23.334602Z"
    },
    "papermill": {
     "duration": 0.132833,
     "end_time": "2021-04-10T15:12:23.334715",
     "exception": false,
     "start_time": "2021-04-10T15:12:23.201882",
     "status": "completed"
    },
    "tags": []
   },
   "outputs": [],
   "source": [
    "# # save model to file\n",
    "# # the model was initially trained on 10,000 num_boost_round\n",
    "# # but to keep the notebook running quiqly I modified it in the example to only 100\n",
    "# pickle.dump(lgbm_2, open(\"lgbm_10000_12.pickle.dat\", \"wb\"))"
   ]
  },
  {
   "cell_type": "markdown",
   "metadata": {
    "papermill": {
     "duration": 0.125226,
     "end_time": "2021-04-10T15:12:23.583998",
     "exception": false,
     "start_time": "2021-04-10T15:12:23.458772",
     "status": "completed"
    },
    "tags": []
   },
   "source": [
    "<img src=\"https://i.imgur.com/lrSAmpi.png\">\n",
    "\n",
    "> This competition has the inference a bit different - for reference please check [this notebook.](https://www.kaggle.com/sohier/competition-api-detailed-introduction/comments) Hence, in the `for` loop we create the actual submission (can be seen in the output).\n",
    "\n",
    "> Training Part: We don't have access to test set labels because we are predicting before getting labels. That's how it is in real world too: You predict today and get the labels tomorrow. You can use tomorrow's labels to predict the day after. And so on. Per day or per batch. - Vopani\n",
    "\n",
    "Things we'll have to apply to `test` set:\n",
    "* we assume the `test` set DOESN'T have `content_type_id` = 1 NOR `answered_correctly` = -1\n",
    "* add information from `user_answers`\n",
    "* add information from `content_answers`\n",
    "* change True/False columns to 1/0\n",
    "* fill missing values with -1\n",
    "* normalize the features\n",
    "\n",
    "Bonus: select only the features we want :)"
   ]
  },
  {
   "cell_type": "code",
   "execution_count": 59,
   "metadata": {
    "execution": {
     "iopub.execute_input": "2021-04-10T15:12:23.840041Z",
     "iopub.status.busy": "2021-04-10T15:12:23.839393Z",
     "iopub.status.idle": "2021-04-10T15:12:24.227837Z",
     "shell.execute_reply": "2021-04-10T15:12:24.228363Z"
    },
    "papermill": {
     "duration": 0.519816,
     "end_time": "2021-04-10T15:12:24.228528",
     "exception": false,
     "start_time": "2021-04-10T15:12:23.708712",
     "status": "completed"
    },
    "tags": []
   },
   "outputs": [],
   "source": [
    "lgbm_2 = pickle.load(open('../input/riiid-answer-correctness-prediction-rapids/lgbm_10000_12.pickle.dat', 'rb'))"
   ]
  },
  {
   "cell_type": "code",
   "execution_count": 60,
   "metadata": {
    "execution": {
     "iopub.execute_input": "2021-04-10T15:12:24.528065Z",
     "iopub.status.busy": "2021-04-10T15:12:24.527371Z",
     "iopub.status.idle": "2021-04-10T15:12:24.555890Z",
     "shell.execute_reply": "2021-04-10T15:12:24.555431Z"
    },
    "papermill": {
     "duration": 0.160142,
     "end_time": "2021-04-10T15:12:24.556015",
     "exception": false,
     "start_time": "2021-04-10T15:12:24.395873",
     "status": "completed"
    },
    "tags": []
   },
   "outputs": [],
   "source": [
    "# Import library and create environment\n",
    "import riiideducation\n",
    "env = riiideducation.make_env()"
   ]
  },
  {
   "cell_type": "code",
   "execution_count": 61,
   "metadata": {
    "execution": {
     "iopub.execute_input": "2021-04-10T15:12:24.821208Z",
     "iopub.status.busy": "2021-04-10T15:12:24.820639Z",
     "iopub.status.idle": "2021-04-10T15:12:25.315655Z",
     "shell.execute_reply": "2021-04-10T15:12:25.316626Z"
    },
    "papermill": {
     "duration": 0.635864,
     "end_time": "2021-04-10T15:12:25.316781",
     "exception": false,
     "start_time": "2021-04-10T15:12:24.680917",
     "status": "completed"
    },
    "tags": []
   },
   "outputs": [],
   "source": [
    "# Here you would also add your pretrained model\n",
    "iter_test = env.iter_test()\n",
    "\n",
    "for (test_df, sample_prediction_df) in iter_test:\n",
    "    test_df = cudf.from_pandas(test_df)\n",
    "    \n",
    "    # --- PREPROCESSING ---\n",
    "    # Here is time to apply the preprocessing to the test_df\n",
    "    test_df = combine_features(data = test_df)\n",
    "    #X = scale_data(features_data=test_df, train=False, features_to_keep=features_to_keep).to_pandas()\n",
    "    X = test_df[features_to_keep].to_pandas()\n",
    "    \n",
    "    # --- MODEL ---\n",
    "    test_df['answered_correctly'] = lgbm_2.predict(X, num_iteration = lgbm_2.best_iteration)\n",
    "    test_df = test_df.to_pandas()\n",
    "    env.predict(test_df.loc[test_df['content_type_id'] == 0, ['row_id', 'answered_correctly']])"
   ]
  },
  {
   "cell_type": "markdown",
   "metadata": {
    "papermill": {
     "duration": 0.124893,
     "end_time": "2021-04-10T15:12:25.573318",
     "exception": false,
     "start_time": "2021-04-10T15:12:25.448425",
     "status": "completed"
    },
    "tags": []
   },
   "source": [
    "<img src=\"https://i.imgur.com/cUQXtS7.png\">\n",
    "\n",
    "# Specs on how I prepped & trained ⌨️🎨\n",
    "### (*locally*)\n",
    "* Z8 G4 Workstation 🖥\n",
    "* 2 CPUs & 96GB Memory 💾\n",
    "* NVIDIA Quadro RTX 8000 🎮\n",
    "* RAPIDS version 0.17 🏃🏾‍♀️"
   ]
  }
 ],
 "metadata": {
  "kernelspec": {
   "display_name": "Python 3",
   "language": "python",
   "name": "python3"
  },
  "language_info": {
   "codemirror_mode": {
    "name": "ipython",
    "version": 3
   },
   "file_extension": ".py",
   "mimetype": "text/x-python",
   "name": "python",
   "nbconvert_exporter": "python",
   "pygments_lexer": "ipython3",
   "version": "3.7.6"
  },
  "papermill": {
   "duration": 944.424343,
   "end_time": "2021-04-10T15:12:26.826653",
   "environment_variables": {},
   "exception": null,
   "input_path": "__notebook__.ipynb",
   "output_path": "__notebook__.ipynb",
   "parameters": {},
   "start_time": "2021-04-10T14:56:42.402310",
   "version": "2.1.0"
  }
 },
 "nbformat": 4,
 "nbformat_minor": 4
}
